{
 "cells": [
  {
   "cell_type": "markdown",
   "metadata": {},
   "source": [
    "# Example for using PointSpectraParameters calculator"
   ]
  },
  {
   "cell_type": "code",
   "execution_count": null,
   "metadata": {},
   "outputs": [],
   "source": [
    "#Import the module\n",
    "from hypyrameter.paramCalculator import pointParamCalculator\n",
    "import pandas as pd\n",
    "import numpy as np\n",
    "import matplotlib.pyplot as plt\n",
    "import os"
   ]
  },
  {
   "cell_type": "markdown",
   "metadata": {},
   "source": [
    "## Instantiate the calculator"
   ]
  },
  {
   "cell_type": "code",
   "execution_count": null,
   "metadata": {},
   "outputs": [],
   "source": [
    "# instantiate the calculator\n",
    "data_path = '/Users/phillipsm/Documents/Software/HyPyRameter/hypyrameter/example_point_data/CompiledFieldSpectra_111219.csv'\n",
    "ppc = pointParamCalculator(data_path=data_path) # opc is an object of the class oreXpressParamCalculator"
   ]
  },
  {
   "cell_type": "markdown",
   "metadata": {},
   "source": [
    "## Run the calculation"
   ]
  },
  {
   "cell_type": "code",
   "execution_count": null,
   "metadata": {},
   "outputs": [],
   "source": [
    "# calculate the parameters, stored in opc.parameter_df\n",
    "ppc.run()"
   ]
  },
  {
   "cell_type": "markdown",
   "metadata": {},
   "source": [
    "## Make some plots"
   ]
  },
  {
   "cell_type": "code",
   "execution_count": null,
   "metadata": {},
   "outputs": [],
   "source": [
    "# In the future, we will add this as an option within the ppc\n",
    "\n",
    "# Save path logic if saving the figures\n",
    "# figSavePath = rootPath+f'{target_}/ParameterOutput/'\n",
    "# if os.path.isdir(figSavePath) is False:\n",
    "#     os.mkdir(figSavePath)\n",
    "\n",
    "paramNames = ppc.validParams\n",
    "specNames = ppc.specNames\n",
    "paramDF = ppc.parameter_df\n",
    "\n",
    "# run for one spectrum or run all in a for loop\n",
    "i = 10\n",
    "# for i in range(np.shape(paramDF)[1]):\n",
    "plt.figure(figsize=(6.5,4),dpi=300)\n",
    "plt.bar(np.linspace(1,len(paramNames),len(paramNames)),paramDF.iloc[:,i])\n",
    "plt.title(specNames[i]+' Parameter Values')\n",
    "plt.xticks(np.linspace(1,len(paramNames),len(paramNames)),labels=paramNames,rotation=90)\n",
    "plt.subplots_adjust(bottom=0.3)\n",
    "# sampleName = sampleName.replace(',','Bar')\n",
    "plt.show()\n",
    "# plt.savefig(figSavePath+sampleName+'.png', dpi=300)\n",
    "\n",
    "plt.figure(figsize=(6.5,4),dpi=300)\n",
    "plt.plot(ppc.wvt,ppc.spectra.iloc[:,i])\n",
    "plt.title('Spectrum '+specNames[i])\n",
    "plt.xlabel('Wavelength (nm)')\n",
    "# sampleName=sampleName.replace('Bar', 'Spectrum')\n",
    "\n",
    "# show or save the figure(s)\n",
    "plt.show()\n",
    "# plt.savefig(figSavePath+sampleName+'.png', dpi=300)"
   ]
  },
  {
   "cell_type": "code",
   "execution_count": null,
   "metadata": {},
   "outputs": [],
   "source": []
  }
 ],
 "metadata": {
  "kernelspec": {
   "display_name": "hypyrameter",
   "language": "python",
   "name": "python3"
  },
  "language_info": {
   "codemirror_mode": {
    "name": "ipython",
    "version": 3
   },
   "file_extension": ".py",
   "mimetype": "text/x-python",
   "name": "python",
   "nbconvert_exporter": "python",
   "pygments_lexer": "ipython3",
   "version": "3.10.13"
  },
  "orig_nbformat": 4
 },
 "nbformat": 4,
 "nbformat_minor": 2
}
