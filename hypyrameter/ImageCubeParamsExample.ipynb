{
 "cells": [
  {
   "cell_type": "markdown",
   "metadata": {},
   "source": [
    "# Example run of HyPyRameter Image Cube Calculator"
   ]
  },
  {
   "cell_type": "code",
   "execution_count": 1,
   "metadata": {},
   "outputs": [],
   "source": [
    "#Import the module\n",
    "from hypyrameter.paramCalculator import cubeParamCalculator"
   ]
  },
  {
   "cell_type": "code",
   "execution_count": 2,
   "metadata": {},
   "outputs": [
    {
     "name": "stdout",
     "output_type": "stream",
     "text": [
      "Select input hyperspectral cube\n"
     ]
    },
    {
     "name": "stderr",
     "output_type": "stream",
     "text": [
      "2023-11-27 12:12:40.777 python[3615:126473298] +[CATransaction synchronize] called within transaction\n"
     ]
    },
    {
     "name": "stdout",
     "output_type": "stream",
     "text": [
      "Selected file: /Users/phillipsm/Documents/Software/pyhat/PyHAT/my_data/frt000047a3_07_if166j_mtr3.hdr\n",
      "loading /Users/phillipsm/Documents/Software/pyhat/PyHAT/my_data/frt000047a3_07_if166j_mtr3.hdr using spectral\n",
      "\tobjects loaded\n",
      "\n",
      "Select output directory\n"
     ]
    },
    {
     "name": "stderr",
     "output_type": "stream",
     "text": [
      "2023-11-27 12:12:47.322 python[3615:126473298] +[CATransaction synchronize] called within transaction\n",
      "2023-11-27 12:12:59.458 python[3615:126473298] +[CATransaction synchronize] called within transaction\n",
      "2023-11-27 12:13:01.445 python[3615:126473298] +[CATransaction synchronize] called within transaction\n"
     ]
    },
    {
     "name": "stdout",
     "output_type": "stream",
     "text": [
      "Selected output directory: /Users/phillipsm/Documents/Software/pyhat/PyHAT/my_data/params\n",
      "loading data\n",
      "\tdata loaded\n",
      "denoising cube\n",
      "filtering the cube\n",
      "creating centered noise cube\n"
     ]
    },
    {
     "name": "stderr",
     "output_type": "stream",
     "text": [
      "100%|██████████| 808/808 [00:22<00:00, 36.72it/s]\n"
     ]
    },
    {
     "name": "stdout",
     "output_type": "stream",
     "text": [
      "\n",
      "time to make reference cube \n",
      "\t61.11 s\n",
      "\n",
      "********************************\n",
      "*                              *\n",
      "* starting round 1 of voting   *\n",
      "*                              *\n",
      "********************************\n",
      "starting the election process\n",
      "data successfully chunked into 168 chunks\n",
      "\n",
      "\tprocessing image chunk 1/168\n",
      "\n",
      "\tgetting data chunks for grubbs test\n"
     ]
    },
    {
     "name": "stderr",
     "output_type": "stream",
     "text": [
      "100%|██████████| 489/489 [00:08<00:00, 60.62it/s]\n"
     ]
    },
    {
     "name": "stdout",
     "output_type": "stream",
     "text": [
      "\n",
      "\tpreparing data for parallel grubbs test\n"
     ]
    },
    {
     "name": "stderr",
     "output_type": "stream",
     "text": [
      "100%|██████████| 2370672/2370672 [00:01<00:00, 2116297.73it/s]\n"
     ]
    },
    {
     "name": "stdout",
     "output_type": "stream",
     "text": [
      "\n",
      "\trunning grubbs test\n",
      "\n",
      "\tprocessing image chunk 2/168\n",
      "\n",
      "\tgetting data chunks for grubbs test\n"
     ]
    },
    {
     "name": "stderr",
     "output_type": "stream",
     "text": [
      "100%|██████████| 489/489 [00:08<00:00, 57.66it/s]\n"
     ]
    },
    {
     "name": "stdout",
     "output_type": "stream",
     "text": [
      "\n",
      "\tpreparing data for parallel grubbs test\n"
     ]
    },
    {
     "name": "stderr",
     "output_type": "stream",
     "text": [
      "100%|██████████| 2370672/2370672 [00:00<00:00, 2373014.29it/s]\n"
     ]
    },
    {
     "name": "stdout",
     "output_type": "stream",
     "text": [
      "\n",
      "\trunning grubbs test\n",
      "\n",
      "\tprocessing image chunk 3/168\n",
      "\n",
      "\tgetting data chunks for grubbs test\n"
     ]
    },
    {
     "name": "stderr",
     "output_type": "stream",
     "text": [
      "100%|██████████| 489/489 [00:07<00:00, 63.13it/s]\n"
     ]
    },
    {
     "name": "stdout",
     "output_type": "stream",
     "text": [
      "\n",
      "\tpreparing data for parallel grubbs test\n"
     ]
    },
    {
     "name": "stderr",
     "output_type": "stream",
     "text": [
      "100%|██████████| 2370672/2370672 [00:00<00:00, 2478167.89it/s]\n"
     ]
    },
    {
     "name": "stdout",
     "output_type": "stream",
     "text": [
      "\n",
      "\trunning grubbs test\n",
      "\n",
      "\tprocessing image chunk 4/168\n",
      "\n",
      "\tgetting data chunks for grubbs test\n"
     ]
    },
    {
     "name": "stderr",
     "output_type": "stream",
     "text": [
      "100%|██████████| 489/489 [00:08<00:00, 58.99it/s]\n"
     ]
    },
    {
     "name": "stdout",
     "output_type": "stream",
     "text": [
      "\n",
      "\tpreparing data for parallel grubbs test\n"
     ]
    },
    {
     "name": "stderr",
     "output_type": "stream",
     "text": [
      "100%|██████████| 2370672/2370672 [00:00<00:00, 2428184.07it/s]\n"
     ]
    },
    {
     "name": "stdout",
     "output_type": "stream",
     "text": [
      "\n",
      "\trunning grubbs test\n",
      "\n",
      "\tprocessing image chunk 5/168\n",
      "\n",
      "\tgetting data chunks for grubbs test\n"
     ]
    },
    {
     "name": "stderr",
     "output_type": "stream",
     "text": [
      "100%|██████████| 489/489 [00:07<00:00, 61.14it/s]\n"
     ]
    },
    {
     "name": "stdout",
     "output_type": "stream",
     "text": [
      "\n",
      "\tpreparing data for parallel grubbs test\n"
     ]
    },
    {
     "name": "stderr",
     "output_type": "stream",
     "text": [
      "100%|██████████| 2370672/2370672 [00:01<00:00, 2045047.82it/s]\n"
     ]
    },
    {
     "name": "stdout",
     "output_type": "stream",
     "text": [
      "\n",
      "\trunning grubbs test\n",
      "\n",
      "\tprocessing image chunk 6/168\n",
      "\n",
      "\tgetting data chunks for grubbs test\n"
     ]
    },
    {
     "name": "stderr",
     "output_type": "stream",
     "text": [
      "100%|██████████| 489/489 [00:08<00:00, 58.37it/s]\n"
     ]
    },
    {
     "name": "stdout",
     "output_type": "stream",
     "text": [
      "\n",
      "\tpreparing data for parallel grubbs test\n"
     ]
    },
    {
     "name": "stderr",
     "output_type": "stream",
     "text": [
      "100%|██████████| 2370672/2370672 [00:01<00:00, 2069689.25it/s]\n"
     ]
    },
    {
     "name": "stdout",
     "output_type": "stream",
     "text": [
      "\n",
      "\trunning grubbs test\n",
      "\n",
      "\tprocessing image chunk 7/168\n",
      "\n",
      "\tgetting data chunks for grubbs test\n"
     ]
    },
    {
     "name": "stderr",
     "output_type": "stream",
     "text": [
      "100%|██████████| 489/489 [00:08<00:00, 56.76it/s]\n"
     ]
    },
    {
     "name": "stdout",
     "output_type": "stream",
     "text": [
      "\n",
      "\tpreparing data for parallel grubbs test\n"
     ]
    },
    {
     "name": "stderr",
     "output_type": "stream",
     "text": [
      "100%|██████████| 2370672/2370672 [00:01<00:00, 2137105.44it/s]\n"
     ]
    },
    {
     "name": "stdout",
     "output_type": "stream",
     "text": [
      "\n",
      "\trunning grubbs test\n",
      "\n",
      "\tprocessing image chunk 8/168\n",
      "\n",
      "\tgetting data chunks for grubbs test\n"
     ]
    },
    {
     "name": "stderr",
     "output_type": "stream",
     "text": [
      "100%|██████████| 489/489 [00:08<00:00, 59.57it/s]\n"
     ]
    },
    {
     "name": "stdout",
     "output_type": "stream",
     "text": [
      "\n",
      "\tpreparing data for parallel grubbs test\n"
     ]
    },
    {
     "name": "stderr",
     "output_type": "stream",
     "text": [
      "100%|██████████| 2370672/2370672 [00:01<00:00, 2236622.49it/s]\n"
     ]
    },
    {
     "name": "stdout",
     "output_type": "stream",
     "text": [
      "\n",
      "\trunning grubbs test\n",
      "\n",
      "\tprocessing image chunk 9/168\n",
      "\n",
      "\tgetting data chunks for grubbs test\n"
     ]
    },
    {
     "name": "stderr",
     "output_type": "stream",
     "text": [
      "100%|██████████| 489/489 [00:08<00:00, 55.73it/s]\n"
     ]
    },
    {
     "name": "stdout",
     "output_type": "stream",
     "text": [
      "\n",
      "\tpreparing data for parallel grubbs test\n"
     ]
    },
    {
     "name": "stderr",
     "output_type": "stream",
     "text": [
      "100%|██████████| 2370672/2370672 [00:01<00:00, 2345094.21it/s]\n"
     ]
    },
    {
     "name": "stdout",
     "output_type": "stream",
     "text": [
      "\n",
      "\trunning grubbs test\n",
      "\n",
      "\tprocessing image chunk 10/168\n",
      "\n",
      "\tgetting data chunks for grubbs test\n"
     ]
    },
    {
     "name": "stderr",
     "output_type": "stream",
     "text": [
      "100%|██████████| 489/489 [00:08<00:00, 58.38it/s]\n"
     ]
    },
    {
     "name": "stdout",
     "output_type": "stream",
     "text": [
      "\n",
      "\tpreparing data for parallel grubbs test\n"
     ]
    },
    {
     "name": "stderr",
     "output_type": "stream",
     "text": [
      "100%|██████████| 2370672/2370672 [00:01<00:00, 1632259.06it/s]\n"
     ]
    },
    {
     "name": "stdout",
     "output_type": "stream",
     "text": [
      "\n",
      "\trunning grubbs test\n",
      "\n",
      "\tprocessing image chunk 11/168\n",
      "\n",
      "\tgetting data chunks for grubbs test\n"
     ]
    },
    {
     "name": "stderr",
     "output_type": "stream",
     "text": [
      "100%|██████████| 489/489 [00:07<00:00, 61.61it/s]\n"
     ]
    },
    {
     "name": "stdout",
     "output_type": "stream",
     "text": [
      "\n",
      "\tpreparing data for parallel grubbs test\n"
     ]
    },
    {
     "name": "stderr",
     "output_type": "stream",
     "text": [
      "100%|██████████| 2370672/2370672 [00:01<00:00, 1586534.19it/s]\n"
     ]
    },
    {
     "name": "stdout",
     "output_type": "stream",
     "text": [
      "\n",
      "\trunning grubbs test\n",
      "\n",
      "\tprocessing image chunk 12/168\n",
      "\n",
      "\tgetting data chunks for grubbs test\n"
     ]
    },
    {
     "name": "stderr",
     "output_type": "stream",
     "text": [
      "100%|██████████| 489/489 [00:08<00:00, 58.02it/s]\n"
     ]
    },
    {
     "name": "stdout",
     "output_type": "stream",
     "text": [
      "\n",
      "\tpreparing data for parallel grubbs test\n"
     ]
    },
    {
     "name": "stderr",
     "output_type": "stream",
     "text": [
      "100%|██████████| 2370672/2370672 [00:00<00:00, 2412337.89it/s]\n"
     ]
    },
    {
     "name": "stdout",
     "output_type": "stream",
     "text": [
      "\n",
      "\trunning grubbs test\n",
      "\n",
      "\tprocessing image chunk 13/168\n",
      "\n",
      "\tgetting data chunks for grubbs test\n"
     ]
    },
    {
     "name": "stderr",
     "output_type": "stream",
     "text": [
      "100%|██████████| 489/489 [00:08<00:00, 54.53it/s]\n"
     ]
    },
    {
     "name": "stdout",
     "output_type": "stream",
     "text": [
      "\n",
      "\tpreparing data for parallel grubbs test\n"
     ]
    },
    {
     "name": "stderr",
     "output_type": "stream",
     "text": [
      "100%|██████████| 2370672/2370672 [00:00<00:00, 2416545.00it/s]\n"
     ]
    },
    {
     "name": "stdout",
     "output_type": "stream",
     "text": [
      "\n",
      "\trunning grubbs test\n",
      "\n",
      "\tprocessing image chunk 14/168\n",
      "\n",
      "\tgetting data chunks for grubbs test\n"
     ]
    },
    {
     "name": "stderr",
     "output_type": "stream",
     "text": [
      "100%|██████████| 489/489 [00:08<00:00, 60.79it/s]\n"
     ]
    },
    {
     "name": "stdout",
     "output_type": "stream",
     "text": [
      "\n",
      "\tpreparing data for parallel grubbs test\n"
     ]
    },
    {
     "name": "stderr",
     "output_type": "stream",
     "text": [
      "100%|██████████| 2370672/2370672 [00:00<00:00, 2405452.76it/s]\n"
     ]
    },
    {
     "name": "stdout",
     "output_type": "stream",
     "text": [
      "\n",
      "\trunning grubbs test\n",
      "\n",
      "\tprocessing image chunk 15/168\n",
      "\n",
      "\tgetting data chunks for grubbs test\n"
     ]
    },
    {
     "name": "stderr",
     "output_type": "stream",
     "text": [
      "100%|██████████| 489/489 [00:08<00:00, 55.99it/s]\n"
     ]
    },
    {
     "name": "stdout",
     "output_type": "stream",
     "text": [
      "\n",
      "\tpreparing data for parallel grubbs test\n"
     ]
    },
    {
     "name": "stderr",
     "output_type": "stream",
     "text": [
      "100%|██████████| 2370672/2370672 [00:00<00:00, 2419996.78it/s]\n"
     ]
    },
    {
     "name": "stdout",
     "output_type": "stream",
     "text": [
      "\n",
      "\trunning grubbs test\n",
      "\n",
      "\tprocessing image chunk 16/168\n",
      "\n",
      "\tgetting data chunks for grubbs test\n"
     ]
    },
    {
     "name": "stderr",
     "output_type": "stream",
     "text": [
      "100%|██████████| 489/489 [00:08<00:00, 59.64it/s]\n"
     ]
    },
    {
     "name": "stdout",
     "output_type": "stream",
     "text": [
      "\n",
      "\tpreparing data for parallel grubbs test\n"
     ]
    },
    {
     "name": "stderr",
     "output_type": "stream",
     "text": [
      "100%|██████████| 2370672/2370672 [00:01<00:00, 1575715.44it/s]\n"
     ]
    },
    {
     "name": "stdout",
     "output_type": "stream",
     "text": [
      "\n",
      "\trunning grubbs test\n",
      "\n",
      "\tprocessing image chunk 17/168\n",
      "\n",
      "\tgetting data chunks for grubbs test\n"
     ]
    },
    {
     "name": "stderr",
     "output_type": "stream",
     "text": [
      "100%|██████████| 489/489 [00:08<00:00, 59.30it/s]\n"
     ]
    },
    {
     "name": "stdout",
     "output_type": "stream",
     "text": [
      "\n",
      "\tpreparing data for parallel grubbs test\n"
     ]
    },
    {
     "name": "stderr",
     "output_type": "stream",
     "text": [
      "100%|██████████| 2370672/2370672 [00:00<00:00, 2567338.26it/s]\n"
     ]
    },
    {
     "name": "stdout",
     "output_type": "stream",
     "text": [
      "\n",
      "\trunning grubbs test\n",
      "\n",
      "\tprocessing image chunk 18/168\n",
      "\n",
      "\tgetting data chunks for grubbs test\n"
     ]
    },
    {
     "name": "stderr",
     "output_type": "stream",
     "text": [
      "100%|██████████| 489/489 [00:08<00:00, 59.22it/s]\n"
     ]
    },
    {
     "name": "stdout",
     "output_type": "stream",
     "text": [
      "\n",
      "\tpreparing data for parallel grubbs test\n"
     ]
    },
    {
     "name": "stderr",
     "output_type": "stream",
     "text": [
      "100%|██████████| 2370672/2370672 [00:01<00:00, 1667744.42it/s]\n"
     ]
    },
    {
     "name": "stdout",
     "output_type": "stream",
     "text": [
      "\n",
      "\trunning grubbs test\n",
      "\n",
      "\tprocessing image chunk 19/168\n",
      "\n",
      "\tgetting data chunks for grubbs test\n"
     ]
    },
    {
     "name": "stderr",
     "output_type": "stream",
     "text": [
      "100%|██████████| 489/489 [00:08<00:00, 58.70it/s]\n"
     ]
    },
    {
     "name": "stdout",
     "output_type": "stream",
     "text": [
      "\n",
      "\tpreparing data for parallel grubbs test\n"
     ]
    },
    {
     "name": "stderr",
     "output_type": "stream",
     "text": [
      "100%|██████████| 2370672/2370672 [00:00<00:00, 2545264.23it/s]\n"
     ]
    },
    {
     "name": "stdout",
     "output_type": "stream",
     "text": [
      "\n",
      "\trunning grubbs test\n",
      "\n",
      "\tprocessing image chunk 20/168\n",
      "\n",
      "\tgetting data chunks for grubbs test\n"
     ]
    },
    {
     "name": "stderr",
     "output_type": "stream",
     "text": [
      "100%|██████████| 489/489 [00:08<00:00, 57.65it/s]\n"
     ]
    },
    {
     "name": "stdout",
     "output_type": "stream",
     "text": [
      "\n",
      "\tpreparing data for parallel grubbs test\n"
     ]
    },
    {
     "name": "stderr",
     "output_type": "stream",
     "text": [
      "100%|██████████| 2370672/2370672 [00:01<00:00, 2083649.47it/s]\n"
     ]
    },
    {
     "name": "stdout",
     "output_type": "stream",
     "text": [
      "\n",
      "\trunning grubbs test\n",
      "\n",
      "\tprocessing image chunk 21/168\n",
      "\n",
      "\tgetting data chunks for grubbs test\n"
     ]
    },
    {
     "name": "stderr",
     "output_type": "stream",
     "text": [
      "100%|██████████| 489/489 [00:08<00:00, 57.12it/s]\n"
     ]
    },
    {
     "name": "stdout",
     "output_type": "stream",
     "text": [
      "\n",
      "\tpreparing data for parallel grubbs test\n"
     ]
    },
    {
     "name": "stderr",
     "output_type": "stream",
     "text": [
      "100%|██████████| 2370672/2370672 [00:01<00:00, 2276018.94it/s]\n"
     ]
    },
    {
     "name": "stdout",
     "output_type": "stream",
     "text": [
      "\n",
      "\trunning grubbs test\n",
      "\n",
      "\tprocessing image chunk 22/168\n",
      "\n",
      "\tgetting data chunks for grubbs test\n"
     ]
    },
    {
     "name": "stderr",
     "output_type": "stream",
     "text": [
      "100%|██████████| 489/489 [00:08<00:00, 56.04it/s]\n"
     ]
    },
    {
     "name": "stdout",
     "output_type": "stream",
     "text": [
      "\n",
      "\tpreparing data for parallel grubbs test\n"
     ]
    },
    {
     "name": "stderr",
     "output_type": "stream",
     "text": [
      "100%|██████████| 2370672/2370672 [00:01<00:00, 2369825.61it/s]\n"
     ]
    },
    {
     "name": "stdout",
     "output_type": "stream",
     "text": [
      "\n",
      "\trunning grubbs test\n",
      "\n",
      "\tprocessing image chunk 23/168\n",
      "\n",
      "\tgetting data chunks for grubbs test\n"
     ]
    },
    {
     "name": "stderr",
     "output_type": "stream",
     "text": [
      "100%|██████████| 489/489 [00:08<00:00, 60.24it/s]\n"
     ]
    },
    {
     "name": "stdout",
     "output_type": "stream",
     "text": [
      "\n",
      "\tpreparing data for parallel grubbs test\n"
     ]
    },
    {
     "name": "stderr",
     "output_type": "stream",
     "text": [
      "100%|██████████| 2370672/2370672 [00:00<00:00, 2462386.61it/s]\n"
     ]
    },
    {
     "name": "stdout",
     "output_type": "stream",
     "text": [
      "\n",
      "\trunning grubbs test\n",
      "\n",
      "\tprocessing image chunk 24/168\n",
      "\n",
      "\tgetting data chunks for grubbs test\n"
     ]
    },
    {
     "name": "stderr",
     "output_type": "stream",
     "text": [
      "100%|██████████| 489/489 [00:08<00:00, 58.36it/s]\n"
     ]
    },
    {
     "name": "stdout",
     "output_type": "stream",
     "text": [
      "\n",
      "\tpreparing data for parallel grubbs test\n"
     ]
    },
    {
     "name": "stderr",
     "output_type": "stream",
     "text": [
      "100%|██████████| 2370672/2370672 [00:01<00:00, 2357751.96it/s]\n"
     ]
    },
    {
     "name": "stdout",
     "output_type": "stream",
     "text": [
      "\n",
      "\trunning grubbs test\n",
      "\n",
      "\tprocessing image chunk 25/168\n",
      "\n",
      "\tgetting data chunks for grubbs test\n"
     ]
    },
    {
     "name": "stderr",
     "output_type": "stream",
     "text": [
      "100%|██████████| 489/489 [00:07<00:00, 63.39it/s]\n"
     ]
    },
    {
     "name": "stdout",
     "output_type": "stream",
     "text": [
      "\n",
      "\tpreparing data for parallel grubbs test\n"
     ]
    },
    {
     "name": "stderr",
     "output_type": "stream",
     "text": [
      "100%|██████████| 2370672/2370672 [00:01<00:00, 1634389.60it/s]\n"
     ]
    },
    {
     "name": "stdout",
     "output_type": "stream",
     "text": [
      "\n",
      "\trunning grubbs test\n",
      "\n",
      "\tprocessing image chunk 26/168\n",
      "\n",
      "\tgetting data chunks for grubbs test\n"
     ]
    },
    {
     "name": "stderr",
     "output_type": "stream",
     "text": [
      "100%|██████████| 489/489 [00:07<00:00, 62.81it/s]\n"
     ]
    },
    {
     "name": "stdout",
     "output_type": "stream",
     "text": [
      "\n",
      "\tpreparing data for parallel grubbs test\n"
     ]
    },
    {
     "name": "stderr",
     "output_type": "stream",
     "text": [
      "100%|██████████| 2370672/2370672 [00:00<00:00, 2393320.16it/s]\n"
     ]
    },
    {
     "name": "stdout",
     "output_type": "stream",
     "text": [
      "\n",
      "\trunning grubbs test\n",
      "\n",
      "\tprocessing image chunk 27/168\n",
      "\n",
      "\tgetting data chunks for grubbs test\n"
     ]
    },
    {
     "name": "stderr",
     "output_type": "stream",
     "text": [
      "100%|██████████| 489/489 [00:08<00:00, 57.63it/s]\n"
     ]
    },
    {
     "name": "stdout",
     "output_type": "stream",
     "text": [
      "\n",
      "\tpreparing data for parallel grubbs test\n"
     ]
    },
    {
     "name": "stderr",
     "output_type": "stream",
     "text": [
      "100%|██████████| 2370672/2370672 [00:01<00:00, 2305457.67it/s]\n"
     ]
    },
    {
     "name": "stdout",
     "output_type": "stream",
     "text": [
      "\n",
      "\trunning grubbs test\n",
      "\n",
      "\tprocessing image chunk 28/168\n",
      "\n",
      "\tgetting data chunks for grubbs test\n"
     ]
    },
    {
     "name": "stderr",
     "output_type": "stream",
     "text": [
      "100%|██████████| 489/489 [00:07<00:00, 61.71it/s]\n"
     ]
    },
    {
     "name": "stdout",
     "output_type": "stream",
     "text": [
      "\n",
      "\tpreparing data for parallel grubbs test\n"
     ]
    },
    {
     "name": "stderr",
     "output_type": "stream",
     "text": [
      "100%|██████████| 2370672/2370672 [00:00<00:00, 2564080.37it/s]\n"
     ]
    },
    {
     "name": "stdout",
     "output_type": "stream",
     "text": [
      "\n",
      "\trunning grubbs test\n",
      "\n",
      "\tprocessing image chunk 29/168\n",
      "\n",
      "\tgetting data chunks for grubbs test\n"
     ]
    },
    {
     "name": "stderr",
     "output_type": "stream",
     "text": [
      "100%|██████████| 489/489 [00:08<00:00, 58.00it/s]\n"
     ]
    },
    {
     "name": "stdout",
     "output_type": "stream",
     "text": [
      "\n",
      "\tpreparing data for parallel grubbs test\n"
     ]
    },
    {
     "name": "stderr",
     "output_type": "stream",
     "text": [
      "100%|██████████| 2370672/2370672 [00:00<00:00, 2405555.18it/s]\n"
     ]
    },
    {
     "name": "stdout",
     "output_type": "stream",
     "text": [
      "\n",
      "\trunning grubbs test\n",
      "\n",
      "\tprocessing image chunk 30/168\n",
      "\n",
      "\tgetting data chunks for grubbs test\n"
     ]
    },
    {
     "name": "stderr",
     "output_type": "stream",
     "text": [
      "100%|██████████| 489/489 [00:07<00:00, 62.05it/s]\n"
     ]
    },
    {
     "name": "stdout",
     "output_type": "stream",
     "text": [
      "\n",
      "\tpreparing data for parallel grubbs test\n"
     ]
    },
    {
     "name": "stderr",
     "output_type": "stream",
     "text": [
      "100%|██████████| 2370672/2370672 [00:01<00:00, 1665641.05it/s]\n"
     ]
    },
    {
     "name": "stdout",
     "output_type": "stream",
     "text": [
      "\n",
      "\trunning grubbs test\n",
      "\n",
      "\tprocessing image chunk 31/168\n",
      "\n",
      "\tgetting data chunks for grubbs test\n"
     ]
    },
    {
     "name": "stderr",
     "output_type": "stream",
     "text": [
      "100%|██████████| 489/489 [00:07<00:00, 64.98it/s]\n"
     ]
    },
    {
     "name": "stdout",
     "output_type": "stream",
     "text": [
      "\n",
      "\tpreparing data for parallel grubbs test\n"
     ]
    },
    {
     "name": "stderr",
     "output_type": "stream",
     "text": [
      "100%|██████████| 2370672/2370672 [00:01<00:00, 1628981.72it/s]\n"
     ]
    },
    {
     "name": "stdout",
     "output_type": "stream",
     "text": [
      "\n",
      "\trunning grubbs test\n",
      "\n",
      "\tprocessing image chunk 32/168\n",
      "\n",
      "\tgetting data chunks for grubbs test\n"
     ]
    },
    {
     "name": "stderr",
     "output_type": "stream",
     "text": [
      "100%|██████████| 489/489 [00:08<00:00, 60.32it/s]\n"
     ]
    },
    {
     "name": "stdout",
     "output_type": "stream",
     "text": [
      "\n",
      "\tpreparing data for parallel grubbs test\n"
     ]
    },
    {
     "name": "stderr",
     "output_type": "stream",
     "text": [
      "100%|██████████| 2370672/2370672 [00:01<00:00, 2342770.25it/s]\n"
     ]
    },
    {
     "name": "stdout",
     "output_type": "stream",
     "text": [
      "\n",
      "\trunning grubbs test\n",
      "\n",
      "\tprocessing image chunk 33/168\n",
      "\n",
      "\tgetting data chunks for grubbs test\n"
     ]
    },
    {
     "name": "stderr",
     "output_type": "stream",
     "text": [
      "100%|██████████| 489/489 [00:08<00:00, 55.32it/s]\n"
     ]
    },
    {
     "name": "stdout",
     "output_type": "stream",
     "text": [
      "\n",
      "\tpreparing data for parallel grubbs test\n"
     ]
    },
    {
     "name": "stderr",
     "output_type": "stream",
     "text": [
      "100%|██████████| 2370672/2370672 [00:00<00:00, 2494346.71it/s]\n"
     ]
    },
    {
     "name": "stdout",
     "output_type": "stream",
     "text": [
      "\n",
      "\trunning grubbs test\n",
      "\n",
      "\tprocessing image chunk 34/168\n",
      "\n",
      "\tgetting data chunks for grubbs test\n"
     ]
    },
    {
     "name": "stderr",
     "output_type": "stream",
     "text": [
      "100%|██████████| 489/489 [00:08<00:00, 60.16it/s]\n"
     ]
    },
    {
     "name": "stdout",
     "output_type": "stream",
     "text": [
      "\n",
      "\tpreparing data for parallel grubbs test\n"
     ]
    },
    {
     "name": "stderr",
     "output_type": "stream",
     "text": [
      "100%|██████████| 2370672/2370672 [00:01<00:00, 2176390.08it/s]\n"
     ]
    },
    {
     "name": "stdout",
     "output_type": "stream",
     "text": [
      "\n",
      "\trunning grubbs test\n",
      "\n",
      "\tprocessing image chunk 35/168\n",
      "\n",
      "\tgetting data chunks for grubbs test\n"
     ]
    },
    {
     "name": "stderr",
     "output_type": "stream",
     "text": [
      "100%|██████████| 489/489 [00:08<00:00, 58.29it/s]\n"
     ]
    },
    {
     "name": "stdout",
     "output_type": "stream",
     "text": [
      "\n",
      "\tpreparing data for parallel grubbs test\n"
     ]
    },
    {
     "name": "stderr",
     "output_type": "stream",
     "text": [
      "100%|██████████| 2370672/2370672 [00:00<00:00, 2476940.03it/s]\n"
     ]
    },
    {
     "name": "stdout",
     "output_type": "stream",
     "text": [
      "\n",
      "\trunning grubbs test\n",
      "\n",
      "\tprocessing image chunk 36/168\n",
      "\n",
      "\tgetting data chunks for grubbs test\n"
     ]
    },
    {
     "name": "stderr",
     "output_type": "stream",
     "text": [
      "100%|██████████| 489/489 [00:08<00:00, 59.33it/s]\n"
     ]
    },
    {
     "name": "stdout",
     "output_type": "stream",
     "text": [
      "\n",
      "\tpreparing data for parallel grubbs test\n"
     ]
    },
    {
     "name": "stderr",
     "output_type": "stream",
     "text": [
      "100%|██████████| 2370672/2370672 [00:01<00:00, 1739753.76it/s]\n"
     ]
    },
    {
     "name": "stdout",
     "output_type": "stream",
     "text": [
      "\n",
      "\trunning grubbs test\n",
      "\n",
      "\tprocessing image chunk 37/168\n",
      "\n",
      "\tgetting data chunks for grubbs test\n"
     ]
    },
    {
     "name": "stderr",
     "output_type": "stream",
     "text": [
      "100%|██████████| 489/489 [00:07<00:00, 61.69it/s]\n"
     ]
    },
    {
     "name": "stdout",
     "output_type": "stream",
     "text": [
      "\n",
      "\tpreparing data for parallel grubbs test\n"
     ]
    },
    {
     "name": "stderr",
     "output_type": "stream",
     "text": [
      "100%|██████████| 2370672/2370672 [00:00<00:00, 2585318.64it/s]\n"
     ]
    },
    {
     "name": "stdout",
     "output_type": "stream",
     "text": [
      "\n",
      "\trunning grubbs test\n",
      "\n",
      "\tprocessing image chunk 38/168\n",
      "\n",
      "\tgetting data chunks for grubbs test\n"
     ]
    },
    {
     "name": "stderr",
     "output_type": "stream",
     "text": [
      "100%|██████████| 489/489 [00:07<00:00, 61.59it/s]\n"
     ]
    },
    {
     "name": "stdout",
     "output_type": "stream",
     "text": [
      "\n",
      "\tpreparing data for parallel grubbs test\n"
     ]
    },
    {
     "name": "stderr",
     "output_type": "stream",
     "text": [
      "100%|██████████| 2370672/2370672 [00:01<00:00, 1444521.30it/s]\n"
     ]
    },
    {
     "name": "stdout",
     "output_type": "stream",
     "text": [
      "\n",
      "\trunning grubbs test\n",
      "\n",
      "\tprocessing image chunk 39/168\n",
      "\n",
      "\tgetting data chunks for grubbs test\n"
     ]
    },
    {
     "name": "stderr",
     "output_type": "stream",
     "text": [
      "100%|██████████| 489/489 [00:08<00:00, 61.08it/s]\n"
     ]
    },
    {
     "name": "stdout",
     "output_type": "stream",
     "text": [
      "\n",
      "\tpreparing data for parallel grubbs test\n"
     ]
    },
    {
     "name": "stderr",
     "output_type": "stream",
     "text": [
      "100%|██████████| 2370672/2370672 [00:00<00:00, 2438873.52it/s]\n"
     ]
    },
    {
     "name": "stdout",
     "output_type": "stream",
     "text": [
      "\n",
      "\trunning grubbs test\n",
      "\n",
      "\tprocessing image chunk 40/168\n",
      "\n",
      "\tgetting data chunks for grubbs test\n"
     ]
    },
    {
     "name": "stderr",
     "output_type": "stream",
     "text": [
      "100%|██████████| 489/489 [00:08<00:00, 55.60it/s]\n"
     ]
    },
    {
     "name": "stdout",
     "output_type": "stream",
     "text": [
      "\n",
      "\tpreparing data for parallel grubbs test\n"
     ]
    },
    {
     "name": "stderr",
     "output_type": "stream",
     "text": [
      "100%|██████████| 2370672/2370672 [00:00<00:00, 2373515.60it/s]\n"
     ]
    },
    {
     "name": "stdout",
     "output_type": "stream",
     "text": [
      "\n",
      "\trunning grubbs test\n",
      "\n",
      "\tprocessing image chunk 41/168\n",
      "\n",
      "\tgetting data chunks for grubbs test\n"
     ]
    },
    {
     "name": "stderr",
     "output_type": "stream",
     "text": [
      "100%|██████████| 489/489 [00:08<00:00, 60.79it/s]\n"
     ]
    },
    {
     "name": "stdout",
     "output_type": "stream",
     "text": [
      "\n",
      "\tpreparing data for parallel grubbs test\n"
     ]
    },
    {
     "name": "stderr",
     "output_type": "stream",
     "text": [
      "100%|██████████| 2370672/2370672 [00:01<00:00, 2229229.31it/s]\n"
     ]
    },
    {
     "name": "stdout",
     "output_type": "stream",
     "text": [
      "\n",
      "\trunning grubbs test\n",
      "\n",
      "\tprocessing image chunk 42/168\n",
      "\n",
      "\tgetting data chunks for grubbs test\n"
     ]
    },
    {
     "name": "stderr",
     "output_type": "stream",
     "text": [
      "100%|██████████| 489/489 [00:08<00:00, 60.49it/s]\n"
     ]
    },
    {
     "name": "stdout",
     "output_type": "stream",
     "text": [
      "\n",
      "\tpreparing data for parallel grubbs test\n"
     ]
    },
    {
     "name": "stderr",
     "output_type": "stream",
     "text": [
      "100%|██████████| 2370672/2370672 [00:01<00:00, 2183188.53it/s]\n"
     ]
    },
    {
     "name": "stdout",
     "output_type": "stream",
     "text": [
      "\n",
      "\trunning grubbs test\n",
      "\n",
      "\tprocessing image chunk 43/168\n",
      "\n",
      "\tgetting data chunks for grubbs test\n"
     ]
    },
    {
     "name": "stderr",
     "output_type": "stream",
     "text": [
      "100%|██████████| 489/489 [00:08<00:00, 60.40it/s]\n"
     ]
    },
    {
     "name": "stdout",
     "output_type": "stream",
     "text": [
      "\n",
      "\tpreparing data for parallel grubbs test\n"
     ]
    },
    {
     "name": "stderr",
     "output_type": "stream",
     "text": [
      "100%|██████████| 2370672/2370672 [00:01<00:00, 1665430.41it/s]\n"
     ]
    },
    {
     "name": "stdout",
     "output_type": "stream",
     "text": [
      "\n",
      "\trunning grubbs test\n",
      "\n",
      "\tprocessing image chunk 44/168\n",
      "\n",
      "\tgetting data chunks for grubbs test\n"
     ]
    },
    {
     "name": "stderr",
     "output_type": "stream",
     "text": [
      "100%|██████████| 489/489 [00:08<00:00, 58.83it/s]\n"
     ]
    },
    {
     "name": "stdout",
     "output_type": "stream",
     "text": [
      "\n",
      "\tpreparing data for parallel grubbs test\n"
     ]
    },
    {
     "name": "stderr",
     "output_type": "stream",
     "text": [
      "100%|██████████| 2370672/2370672 [00:01<00:00, 2126264.14it/s]\n"
     ]
    },
    {
     "name": "stdout",
     "output_type": "stream",
     "text": [
      "\n",
      "\trunning grubbs test\n",
      "\n",
      "\tprocessing image chunk 45/168\n",
      "\n",
      "\tgetting data chunks for grubbs test\n"
     ]
    },
    {
     "name": "stderr",
     "output_type": "stream",
     "text": [
      "100%|██████████| 489/489 [00:08<00:00, 56.09it/s]\n"
     ]
    },
    {
     "name": "stdout",
     "output_type": "stream",
     "text": [
      "\n",
      "\tpreparing data for parallel grubbs test\n"
     ]
    },
    {
     "name": "stderr",
     "output_type": "stream",
     "text": [
      "100%|██████████| 2370672/2370672 [00:01<00:00, 2347385.65it/s]\n"
     ]
    },
    {
     "name": "stdout",
     "output_type": "stream",
     "text": [
      "\n",
      "\trunning grubbs test\n",
      "\n",
      "\tprocessing image chunk 46/168\n",
      "\n",
      "\tgetting data chunks for grubbs test\n"
     ]
    },
    {
     "name": "stderr",
     "output_type": "stream",
     "text": [
      "100%|██████████| 489/489 [00:07<00:00, 61.57it/s]\n"
     ]
    },
    {
     "name": "stdout",
     "output_type": "stream",
     "text": [
      "\n",
      "\tpreparing data for parallel grubbs test\n"
     ]
    },
    {
     "name": "stderr",
     "output_type": "stream",
     "text": [
      "100%|██████████| 2370672/2370672 [00:01<00:00, 2320290.93it/s]\n"
     ]
    },
    {
     "name": "stdout",
     "output_type": "stream",
     "text": [
      "\n",
      "\trunning grubbs test\n",
      "\n",
      "\tprocessing image chunk 47/168\n",
      "\n",
      "\tgetting data chunks for grubbs test\n"
     ]
    },
    {
     "name": "stderr",
     "output_type": "stream",
     "text": [
      "100%|██████████| 489/489 [00:08<00:00, 55.18it/s]\n"
     ]
    },
    {
     "name": "stdout",
     "output_type": "stream",
     "text": [
      "\n",
      "\tpreparing data for parallel grubbs test\n"
     ]
    },
    {
     "name": "stderr",
     "output_type": "stream",
     "text": [
      "100%|██████████| 2370672/2370672 [00:01<00:00, 2208016.08it/s]\n"
     ]
    },
    {
     "name": "stdout",
     "output_type": "stream",
     "text": [
      "\n",
      "\trunning grubbs test\n",
      "\n",
      "\tprocessing image chunk 48/168\n",
      "\n",
      "\tgetting data chunks for grubbs test\n"
     ]
    },
    {
     "name": "stderr",
     "output_type": "stream",
     "text": [
      "100%|██████████| 489/489 [00:08<00:00, 59.13it/s]\n"
     ]
    },
    {
     "name": "stdout",
     "output_type": "stream",
     "text": [
      "\n",
      "\tpreparing data for parallel grubbs test\n"
     ]
    },
    {
     "name": "stderr",
     "output_type": "stream",
     "text": [
      "100%|██████████| 2370672/2370672 [00:01<00:00, 1564357.99it/s]\n"
     ]
    },
    {
     "name": "stdout",
     "output_type": "stream",
     "text": [
      "\n",
      "\trunning grubbs test\n",
      "\n",
      "\tprocessing image chunk 49/168\n",
      "\n",
      "\tgetting data chunks for grubbs test\n"
     ]
    },
    {
     "name": "stderr",
     "output_type": "stream",
     "text": [
      "100%|██████████| 489/489 [00:08<00:00, 59.33it/s]\n"
     ]
    },
    {
     "name": "stdout",
     "output_type": "stream",
     "text": [
      "\n",
      "\tpreparing data for parallel grubbs test\n"
     ]
    },
    {
     "name": "stderr",
     "output_type": "stream",
     "text": [
      "100%|██████████| 2370672/2370672 [00:01<00:00, 1559445.47it/s]\n"
     ]
    },
    {
     "name": "stdout",
     "output_type": "stream",
     "text": [
      "\n",
      "\trunning grubbs test\n",
      "\n",
      "\tprocessing image chunk 50/168\n",
      "\n",
      "\tgetting data chunks for grubbs test\n"
     ]
    },
    {
     "name": "stderr",
     "output_type": "stream",
     "text": [
      "100%|██████████| 489/489 [00:07<00:00, 63.02it/s]\n"
     ]
    },
    {
     "name": "stdout",
     "output_type": "stream",
     "text": [
      "\n",
      "\tpreparing data for parallel grubbs test\n"
     ]
    },
    {
     "name": "stderr",
     "output_type": "stream",
     "text": [
      "100%|██████████| 2370672/2370672 [00:01<00:00, 1723585.05it/s]\n"
     ]
    },
    {
     "name": "stdout",
     "output_type": "stream",
     "text": [
      "\n",
      "\trunning grubbs test\n",
      "\n",
      "\tprocessing image chunk 51/168\n",
      "\n",
      "\tgetting data chunks for grubbs test\n"
     ]
    },
    {
     "name": "stderr",
     "output_type": "stream",
     "text": [
      "100%|██████████| 489/489 [00:08<00:00, 61.07it/s]\n"
     ]
    },
    {
     "name": "stdout",
     "output_type": "stream",
     "text": [
      "\n",
      "\tpreparing data for parallel grubbs test\n"
     ]
    },
    {
     "name": "stderr",
     "output_type": "stream",
     "text": [
      "100%|██████████| 2370672/2370672 [00:01<00:00, 2352024.83it/s]\n"
     ]
    },
    {
     "name": "stdout",
     "output_type": "stream",
     "text": [
      "\n",
      "\trunning grubbs test\n",
      "\n",
      "\tprocessing image chunk 52/168\n",
      "\n",
      "\tgetting data chunks for grubbs test\n"
     ]
    },
    {
     "name": "stderr",
     "output_type": "stream",
     "text": [
      "100%|██████████| 489/489 [00:08<00:00, 60.61it/s]\n"
     ]
    },
    {
     "name": "stdout",
     "output_type": "stream",
     "text": [
      "\n",
      "\tpreparing data for parallel grubbs test\n"
     ]
    },
    {
     "name": "stderr",
     "output_type": "stream",
     "text": [
      "100%|██████████| 2370672/2370672 [00:00<00:00, 2424436.37it/s]\n"
     ]
    },
    {
     "name": "stdout",
     "output_type": "stream",
     "text": [
      "\n",
      "\trunning grubbs test\n",
      "\n",
      "\tprocessing image chunk 53/168\n",
      "\n",
      "\tgetting data chunks for grubbs test\n"
     ]
    },
    {
     "name": "stderr",
     "output_type": "stream",
     "text": [
      "100%|██████████| 489/489 [00:08<00:00, 54.57it/s]\n"
     ]
    },
    {
     "name": "stdout",
     "output_type": "stream",
     "text": [
      "\n",
      "\tpreparing data for parallel grubbs test\n"
     ]
    },
    {
     "name": "stderr",
     "output_type": "stream",
     "text": [
      "100%|██████████| 2370672/2370672 [00:01<00:00, 2360702.50it/s]\n"
     ]
    },
    {
     "name": "stdout",
     "output_type": "stream",
     "text": [
      "\n",
      "\trunning grubbs test\n",
      "\n",
      "\tprocessing image chunk 54/168\n",
      "\n",
      "\tgetting data chunks for grubbs test\n"
     ]
    },
    {
     "name": "stderr",
     "output_type": "stream",
     "text": [
      "100%|██████████| 489/489 [00:08<00:00, 57.17it/s]\n"
     ]
    },
    {
     "name": "stdout",
     "output_type": "stream",
     "text": [
      "\n",
      "\tpreparing data for parallel grubbs test\n"
     ]
    },
    {
     "name": "stderr",
     "output_type": "stream",
     "text": [
      "100%|██████████| 2370672/2370672 [00:00<00:00, 2571511.90it/s]\n"
     ]
    },
    {
     "name": "stdout",
     "output_type": "stream",
     "text": [
      "\n",
      "\trunning grubbs test\n",
      "\n",
      "\tprocessing image chunk 55/168\n",
      "\n",
      "\tgetting data chunks for grubbs test\n"
     ]
    },
    {
     "name": "stderr",
     "output_type": "stream",
     "text": [
      "100%|██████████| 489/489 [00:07<00:00, 61.36it/s]\n"
     ]
    },
    {
     "name": "stdout",
     "output_type": "stream",
     "text": [
      "\n",
      "\tpreparing data for parallel grubbs test\n"
     ]
    },
    {
     "name": "stderr",
     "output_type": "stream",
     "text": [
      "100%|██████████| 2370672/2370672 [00:00<00:00, 2454452.65it/s]\n"
     ]
    },
    {
     "name": "stdout",
     "output_type": "stream",
     "text": [
      "\n",
      "\trunning grubbs test\n",
      "\n",
      "\tprocessing image chunk 56/168\n",
      "\n",
      "\tgetting data chunks for grubbs test\n"
     ]
    },
    {
     "name": "stderr",
     "output_type": "stream",
     "text": [
      "100%|██████████| 489/489 [00:08<00:00, 58.79it/s]\n"
     ]
    },
    {
     "name": "stdout",
     "output_type": "stream",
     "text": [
      "\n",
      "\tpreparing data for parallel grubbs test\n"
     ]
    },
    {
     "name": "stderr",
     "output_type": "stream",
     "text": [
      "100%|██████████| 2370672/2370672 [00:00<00:00, 2422147.86it/s]\n"
     ]
    },
    {
     "name": "stdout",
     "output_type": "stream",
     "text": [
      "\n",
      "\trunning grubbs test\n",
      "\n",
      "\tprocessing image chunk 57/168\n",
      "\n",
      "\tgetting data chunks for grubbs test\n"
     ]
    },
    {
     "name": "stderr",
     "output_type": "stream",
     "text": [
      "100%|██████████| 489/489 [00:07<00:00, 62.50it/s]\n"
     ]
    },
    {
     "name": "stdout",
     "output_type": "stream",
     "text": [
      "\n",
      "\tpreparing data for parallel grubbs test\n"
     ]
    },
    {
     "name": "stderr",
     "output_type": "stream",
     "text": [
      "100%|██████████| 2370672/2370672 [00:01<00:00, 1457546.00it/s]\n"
     ]
    },
    {
     "name": "stdout",
     "output_type": "stream",
     "text": [
      "\n",
      "\trunning grubbs test\n",
      "\n",
      "\tprocessing image chunk 58/168\n",
      "\n",
      "\tgetting data chunks for grubbs test\n"
     ]
    },
    {
     "name": "stderr",
     "output_type": "stream",
     "text": [
      "100%|██████████| 489/489 [00:07<00:00, 62.24it/s]\n"
     ]
    },
    {
     "name": "stdout",
     "output_type": "stream",
     "text": [
      "\n",
      "\tpreparing data for parallel grubbs test\n"
     ]
    },
    {
     "name": "stderr",
     "output_type": "stream",
     "text": [
      "100%|██████████| 2370672/2370672 [00:01<00:00, 1937024.67it/s]\n"
     ]
    },
    {
     "name": "stdout",
     "output_type": "stream",
     "text": [
      "\n",
      "\trunning grubbs test\n",
      "\n",
      "\tprocessing image chunk 59/168\n",
      "\n",
      "\tgetting data chunks for grubbs test\n"
     ]
    },
    {
     "name": "stderr",
     "output_type": "stream",
     "text": [
      "100%|██████████| 489/489 [00:08<00:00, 57.26it/s]\n"
     ]
    },
    {
     "name": "stdout",
     "output_type": "stream",
     "text": [
      "\n",
      "\tpreparing data for parallel grubbs test\n"
     ]
    },
    {
     "name": "stderr",
     "output_type": "stream",
     "text": [
      "100%|██████████| 2370672/2370672 [00:01<00:00, 2347892.27it/s]\n"
     ]
    },
    {
     "name": "stdout",
     "output_type": "stream",
     "text": [
      "\n",
      "\trunning grubbs test\n",
      "\n",
      "\tprocessing image chunk 60/168\n",
      "\n",
      "\tgetting data chunks for grubbs test\n"
     ]
    },
    {
     "name": "stderr",
     "output_type": "stream",
     "text": [
      "100%|██████████| 489/489 [00:08<00:00, 58.64it/s]\n"
     ]
    },
    {
     "name": "stdout",
     "output_type": "stream",
     "text": [
      "\n",
      "\tpreparing data for parallel grubbs test\n"
     ]
    },
    {
     "name": "stderr",
     "output_type": "stream",
     "text": [
      "100%|██████████| 2370672/2370672 [00:01<00:00, 1920506.94it/s]\n"
     ]
    },
    {
     "name": "stdout",
     "output_type": "stream",
     "text": [
      "\n",
      "\trunning grubbs test\n",
      "\n",
      "\tprocessing image chunk 61/168\n",
      "\n",
      "\tgetting data chunks for grubbs test\n"
     ]
    },
    {
     "name": "stderr",
     "output_type": "stream",
     "text": [
      "100%|██████████| 489/489 [00:08<00:00, 55.22it/s]\n"
     ]
    },
    {
     "name": "stdout",
     "output_type": "stream",
     "text": [
      "\n",
      "\tpreparing data for parallel grubbs test\n"
     ]
    },
    {
     "name": "stderr",
     "output_type": "stream",
     "text": [
      "100%|██████████| 2370672/2370672 [00:01<00:00, 2114379.76it/s]\n"
     ]
    },
    {
     "name": "stdout",
     "output_type": "stream",
     "text": [
      "\n",
      "\trunning grubbs test\n",
      "\n",
      "\tprocessing image chunk 62/168\n",
      "\n",
      "\tgetting data chunks for grubbs test\n"
     ]
    },
    {
     "name": "stderr",
     "output_type": "stream",
     "text": [
      "100%|██████████| 489/489 [00:07<00:00, 63.50it/s]\n"
     ]
    },
    {
     "name": "stdout",
     "output_type": "stream",
     "text": [
      "\n",
      "\tpreparing data for parallel grubbs test\n"
     ]
    },
    {
     "name": "stderr",
     "output_type": "stream",
     "text": [
      "100%|██████████| 2370672/2370672 [00:01<00:00, 1558306.35it/s]\n"
     ]
    },
    {
     "name": "stdout",
     "output_type": "stream",
     "text": [
      "\n",
      "\trunning grubbs test\n",
      "\n",
      "\tprocessing image chunk 63/168\n",
      "\n",
      "\tgetting data chunks for grubbs test\n"
     ]
    },
    {
     "name": "stderr",
     "output_type": "stream",
     "text": [
      "100%|██████████| 489/489 [00:08<00:00, 61.01it/s]\n"
     ]
    },
    {
     "name": "stdout",
     "output_type": "stream",
     "text": [
      "\n",
      "\tpreparing data for parallel grubbs test\n"
     ]
    },
    {
     "name": "stderr",
     "output_type": "stream",
     "text": [
      "100%|██████████| 2370672/2370672 [00:01<00:00, 2286408.63it/s]\n"
     ]
    },
    {
     "name": "stdout",
     "output_type": "stream",
     "text": [
      "\n",
      "\trunning grubbs test\n",
      "\n",
      "\tprocessing image chunk 64/168\n",
      "\n",
      "\tgetting data chunks for grubbs test\n"
     ]
    },
    {
     "name": "stderr",
     "output_type": "stream",
     "text": [
      "100%|██████████| 489/489 [00:08<00:00, 56.76it/s]\n"
     ]
    },
    {
     "name": "stdout",
     "output_type": "stream",
     "text": [
      "\n",
      "\tpreparing data for parallel grubbs test\n"
     ]
    },
    {
     "name": "stderr",
     "output_type": "stream",
     "text": [
      "100%|██████████| 2370672/2370672 [00:01<00:00, 1579856.38it/s]\n"
     ]
    },
    {
     "name": "stdout",
     "output_type": "stream",
     "text": [
      "\n",
      "\trunning grubbs test\n",
      "\n",
      "\tprocessing image chunk 65/168\n",
      "\n",
      "\tgetting data chunks for grubbs test\n"
     ]
    },
    {
     "name": "stderr",
     "output_type": "stream",
     "text": [
      "100%|██████████| 489/489 [00:08<00:00, 58.13it/s]\n"
     ]
    },
    {
     "name": "stdout",
     "output_type": "stream",
     "text": [
      "\n",
      "\tpreparing data for parallel grubbs test\n"
     ]
    },
    {
     "name": "stderr",
     "output_type": "stream",
     "text": [
      "100%|██████████| 2370672/2370672 [00:01<00:00, 2035947.47it/s]\n"
     ]
    },
    {
     "name": "stdout",
     "output_type": "stream",
     "text": [
      "\n",
      "\trunning grubbs test\n",
      "\n",
      "\tprocessing image chunk 66/168\n",
      "\n",
      "\tgetting data chunks for grubbs test\n"
     ]
    },
    {
     "name": "stderr",
     "output_type": "stream",
     "text": [
      "100%|██████████| 489/489 [00:08<00:00, 59.75it/s]\n"
     ]
    },
    {
     "name": "stdout",
     "output_type": "stream",
     "text": [
      "\n",
      "\tpreparing data for parallel grubbs test\n"
     ]
    },
    {
     "name": "stderr",
     "output_type": "stream",
     "text": [
      "100%|██████████| 2370672/2370672 [00:01<00:00, 2238729.95it/s]\n"
     ]
    },
    {
     "name": "stdout",
     "output_type": "stream",
     "text": [
      "\n",
      "\trunning grubbs test\n",
      "\n",
      "\tprocessing image chunk 67/168\n",
      "\n",
      "\tgetting data chunks for grubbs test\n"
     ]
    },
    {
     "name": "stderr",
     "output_type": "stream",
     "text": [
      "100%|██████████| 489/489 [00:08<00:00, 55.63it/s]\n"
     ]
    },
    {
     "name": "stdout",
     "output_type": "stream",
     "text": [
      "\n",
      "\tpreparing data for parallel grubbs test\n"
     ]
    },
    {
     "name": "stderr",
     "output_type": "stream",
     "text": [
      "100%|██████████| 2370672/2370672 [00:01<00:00, 2180970.92it/s]\n"
     ]
    },
    {
     "name": "stdout",
     "output_type": "stream",
     "text": [
      "\n",
      "\trunning grubbs test\n",
      "\n",
      "\tprocessing image chunk 68/168\n",
      "\n",
      "\tgetting data chunks for grubbs test\n"
     ]
    },
    {
     "name": "stderr",
     "output_type": "stream",
     "text": [
      "100%|██████████| 489/489 [00:08<00:00, 54.71it/s]\n"
     ]
    },
    {
     "name": "stdout",
     "output_type": "stream",
     "text": [
      "\n",
      "\tpreparing data for parallel grubbs test\n"
     ]
    },
    {
     "name": "stderr",
     "output_type": "stream",
     "text": [
      "100%|██████████| 2370672/2370672 [00:01<00:00, 2294994.12it/s]\n"
     ]
    },
    {
     "name": "stdout",
     "output_type": "stream",
     "text": [
      "\n",
      "\trunning grubbs test\n",
      "\n",
      "\tprocessing image chunk 69/168\n",
      "\n",
      "\tgetting data chunks for grubbs test\n"
     ]
    },
    {
     "name": "stderr",
     "output_type": "stream",
     "text": [
      "100%|██████████| 489/489 [00:08<00:00, 58.07it/s]\n"
     ]
    },
    {
     "name": "stdout",
     "output_type": "stream",
     "text": [
      "\n",
      "\tpreparing data for parallel grubbs test\n"
     ]
    },
    {
     "name": "stderr",
     "output_type": "stream",
     "text": [
      "100%|██████████| 2370672/2370672 [00:01<00:00, 2024944.75it/s]\n"
     ]
    },
    {
     "name": "stdout",
     "output_type": "stream",
     "text": [
      "\n",
      "\trunning grubbs test\n",
      "\n",
      "\tprocessing image chunk 70/168\n",
      "\n",
      "\tgetting data chunks for grubbs test\n"
     ]
    },
    {
     "name": "stderr",
     "output_type": "stream",
     "text": [
      "100%|██████████| 489/489 [00:08<00:00, 55.85it/s]\n"
     ]
    },
    {
     "name": "stdout",
     "output_type": "stream",
     "text": [
      "\n",
      "\tpreparing data for parallel grubbs test\n"
     ]
    },
    {
     "name": "stderr",
     "output_type": "stream",
     "text": [
      "100%|██████████| 2370672/2370672 [00:01<00:00, 2045784.57it/s]\n"
     ]
    },
    {
     "name": "stdout",
     "output_type": "stream",
     "text": [
      "\n",
      "\trunning grubbs test\n",
      "\n",
      "\tprocessing image chunk 71/168\n",
      "\n",
      "\tgetting data chunks for grubbs test\n"
     ]
    },
    {
     "name": "stderr",
     "output_type": "stream",
     "text": [
      "100%|██████████| 489/489 [00:09<00:00, 53.72it/s]\n"
     ]
    },
    {
     "name": "stdout",
     "output_type": "stream",
     "text": [
      "\n",
      "\tpreparing data for parallel grubbs test\n"
     ]
    },
    {
     "name": "stderr",
     "output_type": "stream",
     "text": [
      "100%|██████████| 2370672/2370672 [00:01<00:00, 1486280.27it/s]\n"
     ]
    },
    {
     "name": "stdout",
     "output_type": "stream",
     "text": [
      "\n",
      "\trunning grubbs test\n",
      "\n",
      "\tprocessing image chunk 72/168\n",
      "\n",
      "\tgetting data chunks for grubbs test\n"
     ]
    },
    {
     "name": "stderr",
     "output_type": "stream",
     "text": [
      "100%|██████████| 489/489 [00:09<00:00, 53.04it/s]\n"
     ]
    },
    {
     "name": "stdout",
     "output_type": "stream",
     "text": [
      "\n",
      "\tpreparing data for parallel grubbs test\n"
     ]
    },
    {
     "name": "stderr",
     "output_type": "stream",
     "text": [
      "100%|██████████| 2370672/2370672 [00:01<00:00, 1675766.95it/s]\n"
     ]
    },
    {
     "name": "stdout",
     "output_type": "stream",
     "text": [
      "\n",
      "\trunning grubbs test\n",
      "\n",
      "\tprocessing image chunk 73/168\n",
      "\n",
      "\tgetting data chunks for grubbs test\n"
     ]
    },
    {
     "name": "stderr",
     "output_type": "stream",
     "text": [
      "100%|██████████| 489/489 [00:09<00:00, 52.98it/s]\n"
     ]
    },
    {
     "name": "stdout",
     "output_type": "stream",
     "text": [
      "\n",
      "\tpreparing data for parallel grubbs test\n"
     ]
    },
    {
     "name": "stderr",
     "output_type": "stream",
     "text": [
      "100%|██████████| 2370672/2370672 [00:01<00:00, 2252081.70it/s]\n"
     ]
    },
    {
     "name": "stdout",
     "output_type": "stream",
     "text": [
      "\n",
      "\trunning grubbs test\n",
      "\n",
      "\tprocessing image chunk 74/168\n",
      "\n",
      "\tgetting data chunks for grubbs test\n"
     ]
    },
    {
     "name": "stderr",
     "output_type": "stream",
     "text": [
      "100%|██████████| 489/489 [00:08<00:00, 59.95it/s]\n"
     ]
    },
    {
     "name": "stdout",
     "output_type": "stream",
     "text": [
      "\n",
      "\tpreparing data for parallel grubbs test\n"
     ]
    },
    {
     "name": "stderr",
     "output_type": "stream",
     "text": [
      "100%|██████████| 2370672/2370672 [00:01<00:00, 1897162.52it/s]\n"
     ]
    },
    {
     "name": "stdout",
     "output_type": "stream",
     "text": [
      "\n",
      "\trunning grubbs test\n",
      "\n",
      "\tprocessing image chunk 75/168\n",
      "\n",
      "\tgetting data chunks for grubbs test\n"
     ]
    },
    {
     "name": "stderr",
     "output_type": "stream",
     "text": [
      "100%|██████████| 489/489 [00:08<00:00, 57.07it/s]\n"
     ]
    },
    {
     "name": "stdout",
     "output_type": "stream",
     "text": [
      "\n",
      "\tpreparing data for parallel grubbs test\n"
     ]
    },
    {
     "name": "stderr",
     "output_type": "stream",
     "text": [
      "100%|██████████| 2370672/2370672 [00:01<00:00, 1831848.43it/s]\n"
     ]
    },
    {
     "name": "stdout",
     "output_type": "stream",
     "text": [
      "\n",
      "\trunning grubbs test\n",
      "\n",
      "\tprocessing image chunk 76/168\n",
      "\n",
      "\tgetting data chunks for grubbs test\n"
     ]
    },
    {
     "name": "stderr",
     "output_type": "stream",
     "text": [
      "100%|██████████| 489/489 [00:08<00:00, 59.41it/s]\n"
     ]
    },
    {
     "name": "stdout",
     "output_type": "stream",
     "text": [
      "\n",
      "\tpreparing data for parallel grubbs test\n"
     ]
    },
    {
     "name": "stderr",
     "output_type": "stream",
     "text": [
      "100%|██████████| 2370672/2370672 [00:01<00:00, 1461668.99it/s]\n"
     ]
    },
    {
     "name": "stdout",
     "output_type": "stream",
     "text": [
      "\n",
      "\trunning grubbs test\n",
      "\n",
      "\tprocessing image chunk 77/168\n",
      "\n",
      "\tgetting data chunks for grubbs test\n"
     ]
    },
    {
     "name": "stderr",
     "output_type": "stream",
     "text": [
      "100%|██████████| 489/489 [00:07<00:00, 63.18it/s]\n"
     ]
    },
    {
     "name": "stdout",
     "output_type": "stream",
     "text": [
      "\n",
      "\tpreparing data for parallel grubbs test\n"
     ]
    },
    {
     "name": "stderr",
     "output_type": "stream",
     "text": [
      "100%|██████████| 2370672/2370672 [00:01<00:00, 1521265.84it/s]\n"
     ]
    },
    {
     "name": "stdout",
     "output_type": "stream",
     "text": [
      "\n",
      "\trunning grubbs test\n",
      "\n",
      "\tprocessing image chunk 78/168\n",
      "\n",
      "\tgetting data chunks for grubbs test\n"
     ]
    },
    {
     "name": "stderr",
     "output_type": "stream",
     "text": [
      "100%|██████████| 489/489 [00:08<00:00, 58.43it/s]\n"
     ]
    },
    {
     "name": "stdout",
     "output_type": "stream",
     "text": [
      "\n",
      "\tpreparing data for parallel grubbs test\n"
     ]
    },
    {
     "name": "stderr",
     "output_type": "stream",
     "text": [
      "100%|██████████| 2370672/2370672 [00:01<00:00, 1903946.20it/s]\n"
     ]
    },
    {
     "name": "stdout",
     "output_type": "stream",
     "text": [
      "\n",
      "\trunning grubbs test\n",
      "\n",
      "\tprocessing image chunk 79/168\n",
      "\n",
      "\tgetting data chunks for grubbs test\n"
     ]
    },
    {
     "name": "stderr",
     "output_type": "stream",
     "text": [
      "100%|██████████| 489/489 [00:08<00:00, 55.48it/s]\n"
     ]
    },
    {
     "name": "stdout",
     "output_type": "stream",
     "text": [
      "\n",
      "\tpreparing data for parallel grubbs test\n"
     ]
    },
    {
     "name": "stderr",
     "output_type": "stream",
     "text": [
      "100%|██████████| 2370672/2370672 [00:01<00:00, 2202647.49it/s]\n"
     ]
    },
    {
     "name": "stdout",
     "output_type": "stream",
     "text": [
      "\n",
      "\trunning grubbs test\n",
      "\n",
      "\tprocessing image chunk 80/168\n",
      "\n",
      "\tgetting data chunks for grubbs test\n"
     ]
    },
    {
     "name": "stderr",
     "output_type": "stream",
     "text": [
      "100%|██████████| 489/489 [00:08<00:00, 58.64it/s]\n"
     ]
    },
    {
     "name": "stdout",
     "output_type": "stream",
     "text": [
      "\n",
      "\tpreparing data for parallel grubbs test\n"
     ]
    },
    {
     "name": "stderr",
     "output_type": "stream",
     "text": [
      "100%|██████████| 2370672/2370672 [00:01<00:00, 2044198.97it/s]\n"
     ]
    },
    {
     "name": "stdout",
     "output_type": "stream",
     "text": [
      "\n",
      "\trunning grubbs test\n",
      "\n",
      "\tprocessing image chunk 81/168\n",
      "\n",
      "\tgetting data chunks for grubbs test\n"
     ]
    },
    {
     "name": "stderr",
     "output_type": "stream",
     "text": [
      "100%|██████████| 489/489 [00:08<00:00, 56.85it/s]\n"
     ]
    },
    {
     "name": "stdout",
     "output_type": "stream",
     "text": [
      "\n",
      "\tpreparing data for parallel grubbs test\n"
     ]
    },
    {
     "name": "stderr",
     "output_type": "stream",
     "text": [
      "100%|██████████| 2370672/2370672 [00:01<00:00, 1979387.21it/s]\n"
     ]
    },
    {
     "name": "stdout",
     "output_type": "stream",
     "text": [
      "\n",
      "\trunning grubbs test\n",
      "\n",
      "\tprocessing image chunk 82/168\n",
      "\n",
      "\tgetting data chunks for grubbs test\n"
     ]
    },
    {
     "name": "stderr",
     "output_type": "stream",
     "text": [
      "100%|██████████| 489/489 [00:08<00:00, 59.90it/s]\n"
     ]
    },
    {
     "name": "stdout",
     "output_type": "stream",
     "text": [
      "\n",
      "\tpreparing data for parallel grubbs test\n"
     ]
    },
    {
     "name": "stderr",
     "output_type": "stream",
     "text": [
      "100%|██████████| 2370672/2370672 [00:01<00:00, 1518187.98it/s]\n"
     ]
    },
    {
     "name": "stdout",
     "output_type": "stream",
     "text": [
      "\n",
      "\trunning grubbs test\n",
      "\n",
      "\tprocessing image chunk 83/168\n",
      "\n",
      "\tgetting data chunks for grubbs test\n"
     ]
    },
    {
     "name": "stderr",
     "output_type": "stream",
     "text": [
      "100%|██████████| 489/489 [00:08<00:00, 58.78it/s]\n"
     ]
    },
    {
     "name": "stdout",
     "output_type": "stream",
     "text": [
      "\n",
      "\tpreparing data for parallel grubbs test\n"
     ]
    },
    {
     "name": "stderr",
     "output_type": "stream",
     "text": [
      "100%|██████████| 2370672/2370672 [00:01<00:00, 1751984.69it/s]\n"
     ]
    },
    {
     "name": "stdout",
     "output_type": "stream",
     "text": [
      "\n",
      "\trunning grubbs test\n",
      "\n",
      "\tprocessing image chunk 84/168\n",
      "\n",
      "\tgetting data chunks for grubbs test\n"
     ]
    },
    {
     "name": "stderr",
     "output_type": "stream",
     "text": [
      "100%|██████████| 489/489 [00:08<00:00, 56.46it/s]\n"
     ]
    },
    {
     "name": "stdout",
     "output_type": "stream",
     "text": [
      "\n",
      "\tpreparing data for parallel grubbs test\n"
     ]
    },
    {
     "name": "stderr",
     "output_type": "stream",
     "text": [
      "100%|██████████| 2370672/2370672 [00:01<00:00, 1991657.27it/s]\n"
     ]
    },
    {
     "name": "stdout",
     "output_type": "stream",
     "text": [
      "\n",
      "\trunning grubbs test\n",
      "\n",
      "\tprocessing image chunk 85/168\n",
      "\n",
      "\tgetting data chunks for grubbs test\n"
     ]
    },
    {
     "name": "stderr",
     "output_type": "stream",
     "text": [
      "100%|██████████| 489/489 [00:08<00:00, 60.98it/s]\n"
     ]
    },
    {
     "name": "stdout",
     "output_type": "stream",
     "text": [
      "\n",
      "\tpreparing data for parallel grubbs test\n"
     ]
    },
    {
     "name": "stderr",
     "output_type": "stream",
     "text": [
      "100%|██████████| 2370672/2370672 [00:01<00:00, 1993141.20it/s]\n"
     ]
    },
    {
     "name": "stdout",
     "output_type": "stream",
     "text": [
      "\n",
      "\trunning grubbs test\n",
      "\n",
      "\tprocessing image chunk 86/168\n",
      "\n",
      "\tgetting data chunks for grubbs test\n"
     ]
    },
    {
     "name": "stderr",
     "output_type": "stream",
     "text": [
      "100%|██████████| 489/489 [00:09<00:00, 54.16it/s]\n"
     ]
    },
    {
     "name": "stdout",
     "output_type": "stream",
     "text": [
      "\n",
      "\tpreparing data for parallel grubbs test\n"
     ]
    },
    {
     "name": "stderr",
     "output_type": "stream",
     "text": [
      "100%|██████████| 2370672/2370672 [00:01<00:00, 2301569.56it/s]\n"
     ]
    },
    {
     "name": "stdout",
     "output_type": "stream",
     "text": [
      "\n",
      "\trunning grubbs test\n",
      "\n",
      "\tprocessing image chunk 87/168\n",
      "\n",
      "\tgetting data chunks for grubbs test\n"
     ]
    },
    {
     "name": "stderr",
     "output_type": "stream",
     "text": [
      "100%|██████████| 489/489 [00:08<00:00, 60.35it/s]\n"
     ]
    },
    {
     "name": "stdout",
     "output_type": "stream",
     "text": [
      "\n",
      "\tpreparing data for parallel grubbs test\n"
     ]
    },
    {
     "name": "stderr",
     "output_type": "stream",
     "text": [
      "100%|██████████| 2370672/2370672 [00:01<00:00, 2009018.38it/s]\n"
     ]
    },
    {
     "name": "stdout",
     "output_type": "stream",
     "text": [
      "\n",
      "\trunning grubbs test\n",
      "\n",
      "\tprocessing image chunk 88/168\n",
      "\n",
      "\tgetting data chunks for grubbs test\n"
     ]
    },
    {
     "name": "stderr",
     "output_type": "stream",
     "text": [
      "100%|██████████| 489/489 [00:08<00:00, 58.17it/s]\n"
     ]
    },
    {
     "name": "stdout",
     "output_type": "stream",
     "text": [
      "\n",
      "\tpreparing data for parallel grubbs test\n"
     ]
    },
    {
     "name": "stderr",
     "output_type": "stream",
     "text": [
      "100%|██████████| 2370672/2370672 [00:01<00:00, 1910511.66it/s]\n"
     ]
    },
    {
     "name": "stdout",
     "output_type": "stream",
     "text": [
      "\n",
      "\trunning grubbs test\n",
      "\n",
      "\tprocessing image chunk 89/168\n",
      "\n",
      "\tgetting data chunks for grubbs test\n"
     ]
    },
    {
     "name": "stderr",
     "output_type": "stream",
     "text": [
      "100%|██████████| 489/489 [00:08<00:00, 58.20it/s]\n"
     ]
    },
    {
     "name": "stdout",
     "output_type": "stream",
     "text": [
      "\n",
      "\tpreparing data for parallel grubbs test\n"
     ]
    },
    {
     "name": "stderr",
     "output_type": "stream",
     "text": [
      "100%|██████████| 2370672/2370672 [00:01<00:00, 1864776.63it/s]\n"
     ]
    },
    {
     "name": "stdout",
     "output_type": "stream",
     "text": [
      "\n",
      "\trunning grubbs test\n",
      "\n",
      "\tprocessing image chunk 90/168\n",
      "\n",
      "\tgetting data chunks for grubbs test\n"
     ]
    },
    {
     "name": "stderr",
     "output_type": "stream",
     "text": [
      "100%|██████████| 489/489 [00:08<00:00, 56.23it/s]\n"
     ]
    },
    {
     "name": "stdout",
     "output_type": "stream",
     "text": [
      "\n",
      "\tpreparing data for parallel grubbs test\n"
     ]
    },
    {
     "name": "stderr",
     "output_type": "stream",
     "text": [
      "100%|██████████| 2370672/2370672 [00:01<00:00, 2299941.58it/s]\n"
     ]
    },
    {
     "name": "stdout",
     "output_type": "stream",
     "text": [
      "\n",
      "\trunning grubbs test\n",
      "\n",
      "\tprocessing image chunk 91/168\n",
      "\n",
      "\tgetting data chunks for grubbs test\n"
     ]
    },
    {
     "name": "stderr",
     "output_type": "stream",
     "text": [
      "100%|██████████| 489/489 [00:08<00:00, 59.89it/s]\n"
     ]
    },
    {
     "name": "stdout",
     "output_type": "stream",
     "text": [
      "\n",
      "\tpreparing data for parallel grubbs test\n"
     ]
    },
    {
     "name": "stderr",
     "output_type": "stream",
     "text": [
      "100%|██████████| 2370672/2370672 [00:01<00:00, 1954602.13it/s]\n"
     ]
    },
    {
     "name": "stdout",
     "output_type": "stream",
     "text": [
      "\n",
      "\trunning grubbs test\n",
      "\n",
      "\tprocessing image chunk 92/168\n",
      "\n",
      "\tgetting data chunks for grubbs test\n"
     ]
    },
    {
     "name": "stderr",
     "output_type": "stream",
     "text": [
      "100%|██████████| 489/489 [00:08<00:00, 58.41it/s]\n"
     ]
    },
    {
     "name": "stdout",
     "output_type": "stream",
     "text": [
      "\n",
      "\tpreparing data for parallel grubbs test\n"
     ]
    },
    {
     "name": "stderr",
     "output_type": "stream",
     "text": [
      "100%|██████████| 2370672/2370672 [00:01<00:00, 2066270.88it/s]\n"
     ]
    },
    {
     "name": "stdout",
     "output_type": "stream",
     "text": [
      "\n",
      "\trunning grubbs test\n",
      "\n",
      "\tprocessing image chunk 93/168\n",
      "\n",
      "\tgetting data chunks for grubbs test\n"
     ]
    },
    {
     "name": "stderr",
     "output_type": "stream",
     "text": [
      "100%|██████████| 489/489 [00:08<00:00, 58.62it/s]\n"
     ]
    },
    {
     "name": "stdout",
     "output_type": "stream",
     "text": [
      "\n",
      "\tpreparing data for parallel grubbs test\n"
     ]
    },
    {
     "name": "stderr",
     "output_type": "stream",
     "text": [
      "100%|██████████| 2370672/2370672 [00:01<00:00, 1484760.02it/s]\n"
     ]
    },
    {
     "name": "stdout",
     "output_type": "stream",
     "text": [
      "\n",
      "\trunning grubbs test\n",
      "\n",
      "\tprocessing image chunk 94/168\n",
      "\n",
      "\tgetting data chunks for grubbs test\n"
     ]
    },
    {
     "name": "stderr",
     "output_type": "stream",
     "text": [
      "100%|██████████| 489/489 [00:08<00:00, 60.45it/s]\n"
     ]
    },
    {
     "name": "stdout",
     "output_type": "stream",
     "text": [
      "\n",
      "\tpreparing data for parallel grubbs test\n"
     ]
    },
    {
     "name": "stderr",
     "output_type": "stream",
     "text": [
      "100%|██████████| 2370672/2370672 [00:01<00:00, 1931800.11it/s]\n"
     ]
    },
    {
     "name": "stdout",
     "output_type": "stream",
     "text": [
      "\n",
      "\trunning grubbs test\n",
      "\n",
      "\tprocessing image chunk 95/168\n",
      "\n",
      "\tgetting data chunks for grubbs test\n"
     ]
    },
    {
     "name": "stderr",
     "output_type": "stream",
     "text": [
      "100%|██████████| 489/489 [00:08<00:00, 55.10it/s]\n"
     ]
    },
    {
     "name": "stdout",
     "output_type": "stream",
     "text": [
      "\n",
      "\tpreparing data for parallel grubbs test\n"
     ]
    },
    {
     "name": "stderr",
     "output_type": "stream",
     "text": [
      "100%|██████████| 2370672/2370672 [00:01<00:00, 2242107.62it/s]\n"
     ]
    },
    {
     "name": "stdout",
     "output_type": "stream",
     "text": [
      "\n",
      "\trunning grubbs test\n",
      "\n",
      "\tprocessing image chunk 96/168\n",
      "\n",
      "\tgetting data chunks for grubbs test\n"
     ]
    },
    {
     "name": "stderr",
     "output_type": "stream",
     "text": [
      "100%|██████████| 489/489 [00:08<00:00, 59.21it/s]\n"
     ]
    },
    {
     "name": "stdout",
     "output_type": "stream",
     "text": [
      "\n",
      "\tpreparing data for parallel grubbs test\n"
     ]
    },
    {
     "name": "stderr",
     "output_type": "stream",
     "text": [
      "100%|██████████| 2370672/2370672 [00:01<00:00, 2050036.15it/s]\n"
     ]
    },
    {
     "name": "stdout",
     "output_type": "stream",
     "text": [
      "\n",
      "\trunning grubbs test\n",
      "\n",
      "\tprocessing image chunk 97/168\n",
      "\n",
      "\tgetting data chunks for grubbs test\n"
     ]
    },
    {
     "name": "stderr",
     "output_type": "stream",
     "text": [
      "100%|██████████| 489/489 [00:09<00:00, 53.26it/s]\n"
     ]
    },
    {
     "name": "stdout",
     "output_type": "stream",
     "text": [
      "\n",
      "\tpreparing data for parallel grubbs test\n"
     ]
    },
    {
     "name": "stderr",
     "output_type": "stream",
     "text": [
      "100%|██████████| 2370672/2370672 [00:01<00:00, 2230756.68it/s]\n"
     ]
    },
    {
     "name": "stdout",
     "output_type": "stream",
     "text": [
      "\n",
      "\trunning grubbs test\n",
      "\n",
      "\tprocessing image chunk 98/168\n",
      "\n",
      "\tgetting data chunks for grubbs test\n"
     ]
    },
    {
     "name": "stderr",
     "output_type": "stream",
     "text": [
      "100%|██████████| 489/489 [00:08<00:00, 57.24it/s]\n"
     ]
    },
    {
     "name": "stdout",
     "output_type": "stream",
     "text": [
      "\n",
      "\tpreparing data for parallel grubbs test\n"
     ]
    },
    {
     "name": "stderr",
     "output_type": "stream",
     "text": [
      "100%|██████████| 2370672/2370672 [00:01<00:00, 1422458.28it/s]\n"
     ]
    },
    {
     "name": "stdout",
     "output_type": "stream",
     "text": [
      "\n",
      "\trunning grubbs test\n",
      "\n",
      "\tprocessing image chunk 99/168\n",
      "\n",
      "\tgetting data chunks for grubbs test\n"
     ]
    },
    {
     "name": "stderr",
     "output_type": "stream",
     "text": [
      "100%|██████████| 489/489 [00:08<00:00, 55.12it/s]\n"
     ]
    },
    {
     "name": "stdout",
     "output_type": "stream",
     "text": [
      "\n",
      "\tpreparing data for parallel grubbs test\n"
     ]
    },
    {
     "name": "stderr",
     "output_type": "stream",
     "text": [
      "100%|██████████| 2370672/2370672 [00:01<00:00, 2023666.36it/s]\n"
     ]
    },
    {
     "name": "stdout",
     "output_type": "stream",
     "text": [
      "\n",
      "\trunning grubbs test\n",
      "\n",
      "\tprocessing image chunk 100/168\n",
      "\n",
      "\tgetting data chunks for grubbs test\n"
     ]
    },
    {
     "name": "stderr",
     "output_type": "stream",
     "text": [
      "100%|██████████| 489/489 [00:08<00:00, 59.45it/s]\n"
     ]
    },
    {
     "name": "stdout",
     "output_type": "stream",
     "text": [
      "\n",
      "\tpreparing data for parallel grubbs test\n"
     ]
    },
    {
     "name": "stderr",
     "output_type": "stream",
     "text": [
      "100%|██████████| 2370672/2370672 [00:01<00:00, 1408884.47it/s]\n"
     ]
    },
    {
     "name": "stdout",
     "output_type": "stream",
     "text": [
      "\n",
      "\trunning grubbs test\n",
      "\n",
      "\tprocessing image chunk 101/168\n",
      "\n",
      "\tgetting data chunks for grubbs test\n"
     ]
    },
    {
     "name": "stderr",
     "output_type": "stream",
     "text": [
      "100%|██████████| 489/489 [00:08<00:00, 57.39it/s]\n"
     ]
    },
    {
     "name": "stdout",
     "output_type": "stream",
     "text": [
      "\n",
      "\tpreparing data for parallel grubbs test\n"
     ]
    },
    {
     "name": "stderr",
     "output_type": "stream",
     "text": [
      "100%|██████████| 2370672/2370672 [00:01<00:00, 2057540.81it/s]\n"
     ]
    },
    {
     "name": "stdout",
     "output_type": "stream",
     "text": [
      "\n",
      "\trunning grubbs test\n",
      "\n",
      "\tprocessing image chunk 102/168\n",
      "\n",
      "\tgetting data chunks for grubbs test\n"
     ]
    },
    {
     "name": "stderr",
     "output_type": "stream",
     "text": [
      "100%|██████████| 489/489 [00:09<00:00, 54.07it/s]\n"
     ]
    },
    {
     "name": "stdout",
     "output_type": "stream",
     "text": [
      "\n",
      "\tpreparing data for parallel grubbs test\n"
     ]
    },
    {
     "name": "stderr",
     "output_type": "stream",
     "text": [
      "100%|██████████| 2370672/2370672 [00:01<00:00, 1997245.17it/s]\n"
     ]
    },
    {
     "name": "stdout",
     "output_type": "stream",
     "text": [
      "\n",
      "\trunning grubbs test\n",
      "\n",
      "\tprocessing image chunk 103/168\n",
      "\n",
      "\tgetting data chunks for grubbs test\n"
     ]
    },
    {
     "name": "stderr",
     "output_type": "stream",
     "text": [
      "100%|██████████| 489/489 [00:08<00:00, 55.06it/s]\n"
     ]
    },
    {
     "name": "stdout",
     "output_type": "stream",
     "text": [
      "\n",
      "\tpreparing data for parallel grubbs test\n"
     ]
    },
    {
     "name": "stderr",
     "output_type": "stream",
     "text": [
      "100%|██████████| 2370672/2370672 [00:01<00:00, 1597431.96it/s]\n"
     ]
    },
    {
     "name": "stdout",
     "output_type": "stream",
     "text": [
      "\n",
      "\trunning grubbs test\n",
      "\n",
      "\tprocessing image chunk 104/168\n",
      "\n",
      "\tgetting data chunks for grubbs test\n"
     ]
    },
    {
     "name": "stderr",
     "output_type": "stream",
     "text": [
      "100%|██████████| 489/489 [00:09<00:00, 53.09it/s]\n"
     ]
    },
    {
     "name": "stdout",
     "output_type": "stream",
     "text": [
      "\n",
      "\tpreparing data for parallel grubbs test\n"
     ]
    },
    {
     "name": "stderr",
     "output_type": "stream",
     "text": [
      "100%|██████████| 2370672/2370672 [00:01<00:00, 2212515.02it/s]\n"
     ]
    },
    {
     "name": "stdout",
     "output_type": "stream",
     "text": [
      "\n",
      "\trunning grubbs test\n",
      "\n",
      "\tprocessing image chunk 105/168\n",
      "\n",
      "\tgetting data chunks for grubbs test\n"
     ]
    },
    {
     "name": "stderr",
     "output_type": "stream",
     "text": [
      "100%|██████████| 489/489 [00:08<00:00, 59.41it/s]\n"
     ]
    },
    {
     "name": "stdout",
     "output_type": "stream",
     "text": [
      "\n",
      "\tpreparing data for parallel grubbs test\n"
     ]
    },
    {
     "name": "stderr",
     "output_type": "stream",
     "text": [
      "100%|██████████| 2370672/2370672 [00:01<00:00, 1980357.40it/s]\n"
     ]
    },
    {
     "name": "stdout",
     "output_type": "stream",
     "text": [
      "\n",
      "\trunning grubbs test\n",
      "\n",
      "\tprocessing image chunk 106/168\n",
      "\n",
      "\tgetting data chunks for grubbs test\n"
     ]
    },
    {
     "name": "stderr",
     "output_type": "stream",
     "text": [
      "100%|██████████| 489/489 [00:08<00:00, 57.25it/s]\n"
     ]
    },
    {
     "name": "stdout",
     "output_type": "stream",
     "text": [
      "\n",
      "\tpreparing data for parallel grubbs test\n"
     ]
    },
    {
     "name": "stderr",
     "output_type": "stream",
     "text": [
      "100%|██████████| 2370672/2370672 [00:01<00:00, 1769977.12it/s]\n"
     ]
    },
    {
     "name": "stdout",
     "output_type": "stream",
     "text": [
      "\n",
      "\trunning grubbs test\n",
      "\n",
      "\tprocessing image chunk 107/168\n",
      "\n",
      "\tgetting data chunks for grubbs test\n"
     ]
    },
    {
     "name": "stderr",
     "output_type": "stream",
     "text": [
      "100%|██████████| 489/489 [00:08<00:00, 61.06it/s]\n"
     ]
    },
    {
     "name": "stdout",
     "output_type": "stream",
     "text": [
      "\n",
      "\tpreparing data for parallel grubbs test\n"
     ]
    },
    {
     "name": "stderr",
     "output_type": "stream",
     "text": [
      "100%|██████████| 2370672/2370672 [00:01<00:00, 1489456.86it/s]\n"
     ]
    },
    {
     "name": "stdout",
     "output_type": "stream",
     "text": [
      "\n",
      "\trunning grubbs test\n",
      "\n",
      "\tprocessing image chunk 108/168\n",
      "\n",
      "\tgetting data chunks for grubbs test\n"
     ]
    },
    {
     "name": "stderr",
     "output_type": "stream",
     "text": [
      "100%|██████████| 489/489 [00:08<00:00, 57.33it/s]\n"
     ]
    },
    {
     "name": "stdout",
     "output_type": "stream",
     "text": [
      "\n",
      "\tpreparing data for parallel grubbs test\n"
     ]
    },
    {
     "name": "stderr",
     "output_type": "stream",
     "text": [
      "100%|██████████| 2370672/2370672 [00:01<00:00, 2157539.15it/s]\n"
     ]
    },
    {
     "name": "stdout",
     "output_type": "stream",
     "text": [
      "\n",
      "\trunning grubbs test\n",
      "\n",
      "\tprocessing image chunk 109/168\n",
      "\n",
      "\tgetting data chunks for grubbs test\n"
     ]
    },
    {
     "name": "stderr",
     "output_type": "stream",
     "text": [
      "100%|██████████| 489/489 [00:08<00:00, 54.55it/s]\n"
     ]
    },
    {
     "name": "stdout",
     "output_type": "stream",
     "text": [
      "\n",
      "\tpreparing data for parallel grubbs test\n"
     ]
    },
    {
     "name": "stderr",
     "output_type": "stream",
     "text": [
      "100%|██████████| 2370672/2370672 [00:01<00:00, 2090528.58it/s]\n"
     ]
    },
    {
     "name": "stdout",
     "output_type": "stream",
     "text": [
      "\n",
      "\trunning grubbs test\n",
      "\n",
      "\tprocessing image chunk 110/168\n",
      "\n",
      "\tgetting data chunks for grubbs test\n"
     ]
    },
    {
     "name": "stderr",
     "output_type": "stream",
     "text": [
      "100%|██████████| 489/489 [00:08<00:00, 57.49it/s]\n"
     ]
    },
    {
     "name": "stdout",
     "output_type": "stream",
     "text": [
      "\n",
      "\tpreparing data for parallel grubbs test\n"
     ]
    },
    {
     "name": "stderr",
     "output_type": "stream",
     "text": [
      "100%|██████████| 2370672/2370672 [00:01<00:00, 1844932.50it/s]\n"
     ]
    },
    {
     "name": "stdout",
     "output_type": "stream",
     "text": [
      "\n",
      "\trunning grubbs test\n",
      "\n",
      "\tprocessing image chunk 111/168\n",
      "\n",
      "\tgetting data chunks for grubbs test\n"
     ]
    },
    {
     "name": "stderr",
     "output_type": "stream",
     "text": [
      "100%|██████████| 489/489 [00:08<00:00, 55.84it/s]\n"
     ]
    },
    {
     "name": "stdout",
     "output_type": "stream",
     "text": [
      "\n",
      "\tpreparing data for parallel grubbs test\n"
     ]
    },
    {
     "name": "stderr",
     "output_type": "stream",
     "text": [
      "100%|██████████| 2370672/2370672 [00:01<00:00, 2135473.33it/s]\n"
     ]
    },
    {
     "name": "stdout",
     "output_type": "stream",
     "text": [
      "\n",
      "\trunning grubbs test\n",
      "\n",
      "\tprocessing image chunk 112/168\n",
      "\n",
      "\tgetting data chunks for grubbs test\n"
     ]
    },
    {
     "name": "stderr",
     "output_type": "stream",
     "text": [
      "100%|██████████| 489/489 [00:08<00:00, 59.12it/s]\n"
     ]
    },
    {
     "name": "stdout",
     "output_type": "stream",
     "text": [
      "\n",
      "\tpreparing data for parallel grubbs test\n"
     ]
    },
    {
     "name": "stderr",
     "output_type": "stream",
     "text": [
      "100%|██████████| 2370672/2370672 [00:01<00:00, 1532043.46it/s]\n"
     ]
    },
    {
     "name": "stdout",
     "output_type": "stream",
     "text": [
      "\n",
      "\trunning grubbs test\n",
      "\n",
      "\tprocessing image chunk 113/168\n",
      "\n",
      "\tgetting data chunks for grubbs test\n"
     ]
    },
    {
     "name": "stderr",
     "output_type": "stream",
     "text": [
      "100%|██████████| 489/489 [00:07<00:00, 62.29it/s]\n"
     ]
    },
    {
     "name": "stdout",
     "output_type": "stream",
     "text": [
      "\n",
      "\tpreparing data for parallel grubbs test\n"
     ]
    },
    {
     "name": "stderr",
     "output_type": "stream",
     "text": [
      "100%|██████████| 2370672/2370672 [00:01<00:00, 1475118.44it/s]\n"
     ]
    },
    {
     "name": "stdout",
     "output_type": "stream",
     "text": [
      "\n",
      "\trunning grubbs test\n",
      "\n",
      "\tprocessing image chunk 114/168\n",
      "\n",
      "\tgetting data chunks for grubbs test\n"
     ]
    },
    {
     "name": "stderr",
     "output_type": "stream",
     "text": [
      "100%|██████████| 489/489 [00:08<00:00, 59.02it/s]\n"
     ]
    },
    {
     "name": "stdout",
     "output_type": "stream",
     "text": [
      "\n",
      "\tpreparing data for parallel grubbs test\n"
     ]
    },
    {
     "name": "stderr",
     "output_type": "stream",
     "text": [
      "100%|██████████| 2370672/2370672 [00:01<00:00, 2100961.02it/s]\n"
     ]
    },
    {
     "name": "stdout",
     "output_type": "stream",
     "text": [
      "\n",
      "\trunning grubbs test\n",
      "\n",
      "\tprocessing image chunk 115/168\n",
      "\n",
      "\tgetting data chunks for grubbs test\n"
     ]
    },
    {
     "name": "stderr",
     "output_type": "stream",
     "text": [
      "100%|██████████| 489/489 [00:09<00:00, 50.56it/s]\n"
     ]
    },
    {
     "name": "stdout",
     "output_type": "stream",
     "text": [
      "\n",
      "\tpreparing data for parallel grubbs test\n"
     ]
    },
    {
     "name": "stderr",
     "output_type": "stream",
     "text": [
      "100%|██████████| 2370672/2370672 [00:01<00:00, 1962791.86it/s]\n"
     ]
    },
    {
     "name": "stdout",
     "output_type": "stream",
     "text": [
      "\n",
      "\trunning grubbs test\n",
      "\n",
      "\tprocessing image chunk 116/168\n",
      "\n",
      "\tgetting data chunks for grubbs test\n"
     ]
    },
    {
     "name": "stderr",
     "output_type": "stream",
     "text": [
      "100%|██████████| 489/489 [00:08<00:00, 56.20it/s]\n"
     ]
    },
    {
     "name": "stdout",
     "output_type": "stream",
     "text": [
      "\n",
      "\tpreparing data for parallel grubbs test\n"
     ]
    },
    {
     "name": "stderr",
     "output_type": "stream",
     "text": [
      "100%|██████████| 2370672/2370672 [00:01<00:00, 1790248.11it/s]\n"
     ]
    },
    {
     "name": "stdout",
     "output_type": "stream",
     "text": [
      "\n",
      "\trunning grubbs test\n",
      "\n",
      "\tprocessing image chunk 117/168\n",
      "\n",
      "\tgetting data chunks for grubbs test\n"
     ]
    },
    {
     "name": "stderr",
     "output_type": "stream",
     "text": [
      "100%|██████████| 489/489 [00:09<00:00, 54.08it/s]\n"
     ]
    },
    {
     "name": "stdout",
     "output_type": "stream",
     "text": [
      "\n",
      "\tpreparing data for parallel grubbs test\n"
     ]
    },
    {
     "name": "stderr",
     "output_type": "stream",
     "text": [
      "100%|██████████| 2370672/2370672 [00:01<00:00, 2252336.77it/s]\n"
     ]
    },
    {
     "name": "stdout",
     "output_type": "stream",
     "text": [
      "\n",
      "\trunning grubbs test\n",
      "\n",
      "\tprocessing image chunk 118/168\n",
      "\n",
      "\tgetting data chunks for grubbs test\n"
     ]
    },
    {
     "name": "stderr",
     "output_type": "stream",
     "text": [
      "100%|██████████| 489/489 [00:08<00:00, 59.22it/s]\n"
     ]
    },
    {
     "name": "stdout",
     "output_type": "stream",
     "text": [
      "\n",
      "\tpreparing data for parallel grubbs test\n"
     ]
    },
    {
     "name": "stderr",
     "output_type": "stream",
     "text": [
      "100%|██████████| 2370672/2370672 [00:01<00:00, 1596396.09it/s]\n"
     ]
    },
    {
     "name": "stdout",
     "output_type": "stream",
     "text": [
      "\n",
      "\trunning grubbs test\n",
      "\n",
      "\tprocessing image chunk 119/168\n",
      "\n",
      "\tgetting data chunks for grubbs test\n"
     ]
    },
    {
     "name": "stderr",
     "output_type": "stream",
     "text": [
      "100%|██████████| 489/489 [00:08<00:00, 58.61it/s]\n"
     ]
    },
    {
     "name": "stdout",
     "output_type": "stream",
     "text": [
      "\n",
      "\tpreparing data for parallel grubbs test\n"
     ]
    },
    {
     "name": "stderr",
     "output_type": "stream",
     "text": [
      "100%|██████████| 2370672/2370672 [00:00<00:00, 2371200.59it/s]\n"
     ]
    },
    {
     "name": "stdout",
     "output_type": "stream",
     "text": [
      "\n",
      "\trunning grubbs test\n",
      "\n",
      "\tprocessing image chunk 120/168\n",
      "\n",
      "\tgetting data chunks for grubbs test\n"
     ]
    },
    {
     "name": "stderr",
     "output_type": "stream",
     "text": [
      "100%|██████████| 489/489 [00:08<00:00, 57.63it/s]\n"
     ]
    },
    {
     "name": "stdout",
     "output_type": "stream",
     "text": [
      "\n",
      "\tpreparing data for parallel grubbs test\n"
     ]
    },
    {
     "name": "stderr",
     "output_type": "stream",
     "text": [
      "100%|██████████| 2370672/2370672 [00:01<00:00, 2343049.59it/s]\n"
     ]
    },
    {
     "name": "stdout",
     "output_type": "stream",
     "text": [
      "\n",
      "\trunning grubbs test\n",
      "\n",
      "\tprocessing image chunk 121/168\n",
      "\n",
      "\tgetting data chunks for grubbs test\n"
     ]
    },
    {
     "name": "stderr",
     "output_type": "stream",
     "text": [
      "100%|██████████| 489/489 [00:08<00:00, 59.78it/s]\n"
     ]
    },
    {
     "name": "stdout",
     "output_type": "stream",
     "text": [
      "\n",
      "\tpreparing data for parallel grubbs test\n"
     ]
    },
    {
     "name": "stderr",
     "output_type": "stream",
     "text": [
      "100%|██████████| 2370672/2370672 [00:01<00:00, 2274269.80it/s]\n"
     ]
    },
    {
     "name": "stdout",
     "output_type": "stream",
     "text": [
      "\n",
      "\trunning grubbs test\n",
      "\n",
      "\tprocessing image chunk 122/168\n",
      "\n",
      "\tgetting data chunks for grubbs test\n"
     ]
    },
    {
     "name": "stderr",
     "output_type": "stream",
     "text": [
      "100%|██████████| 489/489 [00:08<00:00, 55.81it/s]\n"
     ]
    },
    {
     "name": "stdout",
     "output_type": "stream",
     "text": [
      "\n",
      "\tpreparing data for parallel grubbs test\n"
     ]
    },
    {
     "name": "stderr",
     "output_type": "stream",
     "text": [
      "100%|██████████| 2370672/2370672 [00:00<00:00, 2385142.75it/s]\n"
     ]
    },
    {
     "name": "stdout",
     "output_type": "stream",
     "text": [
      "\n",
      "\trunning grubbs test\n",
      "\n",
      "\tprocessing image chunk 123/168\n",
      "\n",
      "\tgetting data chunks for grubbs test\n"
     ]
    },
    {
     "name": "stderr",
     "output_type": "stream",
     "text": [
      "100%|██████████| 489/489 [00:07<00:00, 61.48it/s]\n"
     ]
    },
    {
     "name": "stdout",
     "output_type": "stream",
     "text": [
      "\n",
      "\tpreparing data for parallel grubbs test\n"
     ]
    },
    {
     "name": "stderr",
     "output_type": "stream",
     "text": [
      "100%|██████████| 2370672/2370672 [00:00<00:00, 2410574.05it/s]\n"
     ]
    },
    {
     "name": "stdout",
     "output_type": "stream",
     "text": [
      "\n",
      "\trunning grubbs test\n",
      "\n",
      "\tprocessing image chunk 124/168\n",
      "\n",
      "\tgetting data chunks for grubbs test\n"
     ]
    },
    {
     "name": "stderr",
     "output_type": "stream",
     "text": [
      "100%|██████████| 489/489 [00:08<00:00, 57.78it/s]\n"
     ]
    },
    {
     "name": "stdout",
     "output_type": "stream",
     "text": [
      "\n",
      "\tpreparing data for parallel grubbs test\n"
     ]
    },
    {
     "name": "stderr",
     "output_type": "stream",
     "text": [
      "100%|██████████| 2370672/2370672 [00:01<00:00, 2198144.33it/s]\n"
     ]
    },
    {
     "name": "stdout",
     "output_type": "stream",
     "text": [
      "\n",
      "\trunning grubbs test\n",
      "\n",
      "\tprocessing image chunk 125/168\n",
      "\n",
      "\tgetting data chunks for grubbs test\n"
     ]
    },
    {
     "name": "stderr",
     "output_type": "stream",
     "text": [
      "100%|██████████| 489/489 [00:09<00:00, 54.33it/s]\n"
     ]
    },
    {
     "name": "stdout",
     "output_type": "stream",
     "text": [
      "\n",
      "\tpreparing data for parallel grubbs test\n"
     ]
    },
    {
     "name": "stderr",
     "output_type": "stream",
     "text": [
      "100%|██████████| 2370672/2370672 [00:01<00:00, 2332518.57it/s]\n"
     ]
    },
    {
     "name": "stdout",
     "output_type": "stream",
     "text": [
      "\n",
      "\trunning grubbs test\n",
      "\n",
      "\tprocessing image chunk 126/168\n",
      "\n",
      "\tgetting data chunks for grubbs test\n"
     ]
    },
    {
     "name": "stderr",
     "output_type": "stream",
     "text": [
      "100%|██████████| 489/489 [00:08<00:00, 56.10it/s]\n"
     ]
    },
    {
     "name": "stdout",
     "output_type": "stream",
     "text": [
      "\n",
      "\tpreparing data for parallel grubbs test\n"
     ]
    },
    {
     "name": "stderr",
     "output_type": "stream",
     "text": [
      "100%|██████████| 2370672/2370672 [00:01<00:00, 2339223.05it/s]\n"
     ]
    },
    {
     "name": "stdout",
     "output_type": "stream",
     "text": [
      "\n",
      "\trunning grubbs test\n",
      "\n",
      "\tprocessing image chunk 127/168\n",
      "\n",
      "\tgetting data chunks for grubbs test\n"
     ]
    },
    {
     "name": "stderr",
     "output_type": "stream",
     "text": [
      "100%|██████████| 489/489 [00:08<00:00, 59.61it/s]\n"
     ]
    },
    {
     "name": "stdout",
     "output_type": "stream",
     "text": [
      "\n",
      "\tpreparing data for parallel grubbs test\n"
     ]
    },
    {
     "name": "stderr",
     "output_type": "stream",
     "text": [
      "100%|██████████| 2370672/2370672 [00:01<00:00, 2330901.72it/s]\n"
     ]
    },
    {
     "name": "stdout",
     "output_type": "stream",
     "text": [
      "\n",
      "\trunning grubbs test\n",
      "\n",
      "\tprocessing image chunk 128/168\n",
      "\n",
      "\tgetting data chunks for grubbs test\n"
     ]
    },
    {
     "name": "stderr",
     "output_type": "stream",
     "text": [
      "100%|██████████| 489/489 [00:08<00:00, 58.07it/s]\n"
     ]
    },
    {
     "name": "stdout",
     "output_type": "stream",
     "text": [
      "\n",
      "\tpreparing data for parallel grubbs test\n"
     ]
    },
    {
     "name": "stderr",
     "output_type": "stream",
     "text": [
      "100%|██████████| 2370672/2370672 [00:01<00:00, 2325788.75it/s]\n"
     ]
    },
    {
     "name": "stdout",
     "output_type": "stream",
     "text": [
      "\n",
      "\trunning grubbs test\n",
      "\n",
      "\tprocessing image chunk 129/168\n",
      "\n",
      "\tgetting data chunks for grubbs test\n"
     ]
    },
    {
     "name": "stderr",
     "output_type": "stream",
     "text": [
      "100%|██████████| 489/489 [00:07<00:00, 61.26it/s]\n"
     ]
    },
    {
     "name": "stdout",
     "output_type": "stream",
     "text": [
      "\n",
      "\tpreparing data for parallel grubbs test\n"
     ]
    },
    {
     "name": "stderr",
     "output_type": "stream",
     "text": [
      "100%|██████████| 2370672/2370672 [00:01<00:00, 1651610.42it/s]\n"
     ]
    },
    {
     "name": "stdout",
     "output_type": "stream",
     "text": [
      "\n",
      "\trunning grubbs test\n",
      "\n",
      "\tprocessing image chunk 130/168\n",
      "\n",
      "\tgetting data chunks for grubbs test\n"
     ]
    },
    {
     "name": "stderr",
     "output_type": "stream",
     "text": [
      "100%|██████████| 489/489 [00:08<00:00, 60.63it/s]\n"
     ]
    },
    {
     "name": "stdout",
     "output_type": "stream",
     "text": [
      "\n",
      "\tpreparing data for parallel grubbs test\n"
     ]
    },
    {
     "name": "stderr",
     "output_type": "stream",
     "text": [
      "100%|██████████| 2370672/2370672 [00:01<00:00, 2344435.68it/s]\n"
     ]
    },
    {
     "name": "stdout",
     "output_type": "stream",
     "text": [
      "\n",
      "\trunning grubbs test\n",
      "\n",
      "\tprocessing image chunk 131/168\n",
      "\n",
      "\tgetting data chunks for grubbs test\n"
     ]
    },
    {
     "name": "stderr",
     "output_type": "stream",
     "text": [
      "100%|██████████| 489/489 [00:08<00:00, 55.74it/s]\n"
     ]
    },
    {
     "name": "stdout",
     "output_type": "stream",
     "text": [
      "\n",
      "\tpreparing data for parallel grubbs test\n"
     ]
    },
    {
     "name": "stderr",
     "output_type": "stream",
     "text": [
      "100%|██████████| 2370672/2370672 [00:01<00:00, 2314575.48it/s]\n"
     ]
    },
    {
     "name": "stdout",
     "output_type": "stream",
     "text": [
      "\n",
      "\trunning grubbs test\n",
      "\n",
      "\tprocessing image chunk 132/168\n",
      "\n",
      "\tgetting data chunks for grubbs test\n"
     ]
    },
    {
     "name": "stderr",
     "output_type": "stream",
     "text": [
      "100%|██████████| 489/489 [00:08<00:00, 59.48it/s]\n"
     ]
    },
    {
     "name": "stdout",
     "output_type": "stream",
     "text": [
      "\n",
      "\tpreparing data for parallel grubbs test\n"
     ]
    },
    {
     "name": "stderr",
     "output_type": "stream",
     "text": [
      "100%|██████████| 2370672/2370672 [00:00<00:00, 2446755.69it/s]\n"
     ]
    },
    {
     "name": "stdout",
     "output_type": "stream",
     "text": [
      "\n",
      "\trunning grubbs test\n",
      "\n",
      "\tprocessing image chunk 133/168\n",
      "\n",
      "\tgetting data chunks for grubbs test\n"
     ]
    },
    {
     "name": "stderr",
     "output_type": "stream",
     "text": [
      "100%|██████████| 489/489 [00:08<00:00, 58.07it/s]\n"
     ]
    },
    {
     "name": "stdout",
     "output_type": "stream",
     "text": [
      "\n",
      "\tpreparing data for parallel grubbs test\n"
     ]
    },
    {
     "name": "stderr",
     "output_type": "stream",
     "text": [
      "100%|██████████| 2370672/2370672 [00:00<00:00, 2375839.67it/s]\n"
     ]
    },
    {
     "name": "stdout",
     "output_type": "stream",
     "text": [
      "\n",
      "\trunning grubbs test\n",
      "\n",
      "\tprocessing image chunk 134/168\n",
      "\n",
      "\tgetting data chunks for grubbs test\n"
     ]
    },
    {
     "name": "stderr",
     "output_type": "stream",
     "text": [
      "100%|██████████| 489/489 [00:08<00:00, 59.20it/s]\n"
     ]
    },
    {
     "name": "stdout",
     "output_type": "stream",
     "text": [
      "\n",
      "\tpreparing data for parallel grubbs test\n"
     ]
    },
    {
     "name": "stderr",
     "output_type": "stream",
     "text": [
      "100%|██████████| 2370672/2370672 [00:01<00:00, 1588509.14it/s]\n"
     ]
    },
    {
     "name": "stdout",
     "output_type": "stream",
     "text": [
      "\n",
      "\trunning grubbs test\n",
      "\n",
      "\tprocessing image chunk 135/168\n",
      "\n",
      "\tgetting data chunks for grubbs test\n"
     ]
    },
    {
     "name": "stderr",
     "output_type": "stream",
     "text": [
      "100%|██████████| 489/489 [00:08<00:00, 61.07it/s]\n"
     ]
    },
    {
     "name": "stdout",
     "output_type": "stream",
     "text": [
      "\n",
      "\tpreparing data for parallel grubbs test\n"
     ]
    },
    {
     "name": "stderr",
     "output_type": "stream",
     "text": [
      "100%|██████████| 2370672/2370672 [00:00<00:00, 2402655.83it/s]\n"
     ]
    },
    {
     "name": "stdout",
     "output_type": "stream",
     "text": [
      "\n",
      "\trunning grubbs test\n",
      "\n",
      "\tprocessing image chunk 136/168\n",
      "\n",
      "\tgetting data chunks for grubbs test\n"
     ]
    },
    {
     "name": "stderr",
     "output_type": "stream",
     "text": [
      "100%|██████████| 489/489 [00:08<00:00, 60.83it/s]\n"
     ]
    },
    {
     "name": "stdout",
     "output_type": "stream",
     "text": [
      "\n",
      "\tpreparing data for parallel grubbs test\n"
     ]
    },
    {
     "name": "stderr",
     "output_type": "stream",
     "text": [
      "100%|██████████| 2370672/2370672 [00:01<00:00, 1620477.94it/s]\n"
     ]
    },
    {
     "name": "stdout",
     "output_type": "stream",
     "text": [
      "\n",
      "\trunning grubbs test\n",
      "\n",
      "\tprocessing image chunk 137/168\n",
      "\n",
      "\tgetting data chunks for grubbs test\n"
     ]
    },
    {
     "name": "stderr",
     "output_type": "stream",
     "text": [
      "100%|██████████| 489/489 [00:08<00:00, 56.84it/s]\n"
     ]
    },
    {
     "name": "stdout",
     "output_type": "stream",
     "text": [
      "\n",
      "\tpreparing data for parallel grubbs test\n"
     ]
    },
    {
     "name": "stderr",
     "output_type": "stream",
     "text": [
      "100%|██████████| 2370672/2370672 [00:01<00:00, 2142902.66it/s]\n"
     ]
    },
    {
     "name": "stdout",
     "output_type": "stream",
     "text": [
      "\n",
      "\trunning grubbs test\n",
      "\n",
      "\tprocessing image chunk 138/168\n",
      "\n",
      "\tgetting data chunks for grubbs test\n"
     ]
    },
    {
     "name": "stderr",
     "output_type": "stream",
     "text": [
      "100%|██████████| 489/489 [00:08<00:00, 59.03it/s]\n"
     ]
    },
    {
     "name": "stdout",
     "output_type": "stream",
     "text": [
      "\n",
      "\tpreparing data for parallel grubbs test\n"
     ]
    },
    {
     "name": "stderr",
     "output_type": "stream",
     "text": [
      "100%|██████████| 2370672/2370672 [00:00<00:00, 2387335.46it/s]\n"
     ]
    },
    {
     "name": "stdout",
     "output_type": "stream",
     "text": [
      "\n",
      "\trunning grubbs test\n",
      "\n",
      "\tprocessing image chunk 139/168\n",
      "\n",
      "\tgetting data chunks for grubbs test\n"
     ]
    },
    {
     "name": "stderr",
     "output_type": "stream",
     "text": [
      "100%|██████████| 489/489 [00:08<00:00, 54.37it/s]\n"
     ]
    },
    {
     "name": "stdout",
     "output_type": "stream",
     "text": [
      "\n",
      "\tpreparing data for parallel grubbs test\n"
     ]
    },
    {
     "name": "stderr",
     "output_type": "stream",
     "text": [
      "100%|██████████| 2370672/2370672 [00:01<00:00, 2291248.36it/s]\n"
     ]
    },
    {
     "name": "stdout",
     "output_type": "stream",
     "text": [
      "\n",
      "\trunning grubbs test\n",
      "\n",
      "\tprocessing image chunk 140/168\n",
      "\n",
      "\tgetting data chunks for grubbs test\n"
     ]
    },
    {
     "name": "stderr",
     "output_type": "stream",
     "text": [
      "100%|██████████| 489/489 [00:08<00:00, 57.34it/s]\n"
     ]
    },
    {
     "name": "stdout",
     "output_type": "stream",
     "text": [
      "\n",
      "\tpreparing data for parallel grubbs test\n"
     ]
    },
    {
     "name": "stderr",
     "output_type": "stream",
     "text": [
      "100%|██████████| 2370672/2370672 [00:00<00:00, 2380988.87it/s]\n"
     ]
    },
    {
     "name": "stdout",
     "output_type": "stream",
     "text": [
      "\n",
      "\trunning grubbs test\n",
      "\n",
      "\tprocessing image chunk 141/168\n",
      "\n",
      "\tgetting data chunks for grubbs test\n"
     ]
    },
    {
     "name": "stderr",
     "output_type": "stream",
     "text": [
      "100%|██████████| 489/489 [00:08<00:00, 60.46it/s]\n"
     ]
    },
    {
     "name": "stdout",
     "output_type": "stream",
     "text": [
      "\n",
      "\tpreparing data for parallel grubbs test\n"
     ]
    },
    {
     "name": "stderr",
     "output_type": "stream",
     "text": [
      "100%|██████████| 2370672/2370672 [00:01<00:00, 2327750.48it/s]\n"
     ]
    },
    {
     "name": "stdout",
     "output_type": "stream",
     "text": [
      "\n",
      "\trunning grubbs test\n",
      "\n",
      "\tprocessing image chunk 142/168\n",
      "\n",
      "\tgetting data chunks for grubbs test\n"
     ]
    },
    {
     "name": "stderr",
     "output_type": "stream",
     "text": [
      "100%|██████████| 489/489 [00:01<00:00, 440.66it/s]\n"
     ]
    },
    {
     "name": "stdout",
     "output_type": "stream",
     "text": [
      "\n",
      "\tpreparing data for parallel grubbs test\n"
     ]
    },
    {
     "name": "stderr",
     "output_type": "stream",
     "text": [
      "100%|██████████| 395112/395112 [00:00<00:00, 939340.29it/s]\n"
     ]
    },
    {
     "name": "stdout",
     "output_type": "stream",
     "text": [
      "\n",
      "\trunning grubbs test\n",
      "\n",
      "\tprocessing image chunk 143/168\n",
      "\n",
      "\tgetting data chunks for grubbs test\n"
     ]
    },
    {
     "name": "stderr",
     "output_type": "stream",
     "text": [
      "100%|██████████| 489/489 [00:00<00:00, 3848057.52it/s]\n"
     ]
    },
    {
     "name": "stdout",
     "output_type": "stream",
     "text": [
      "\n",
      "\tpreparing data for parallel grubbs test\n"
     ]
    },
    {
     "name": "stderr",
     "output_type": "stream",
     "text": [
      "0it [00:00, ?it/s]\n"
     ]
    },
    {
     "name": "stdout",
     "output_type": "stream",
     "text": [
      "\n",
      "\trunning grubbs test\n",
      "\n",
      "\tprocessing image chunk 144/168\n",
      "\n",
      "\tgetting data chunks for grubbs test\n"
     ]
    },
    {
     "name": "stderr",
     "output_type": "stream",
     "text": [
      "100%|██████████| 489/489 [00:00<00:00, 3476296.03it/s]\n"
     ]
    },
    {
     "name": "stdout",
     "output_type": "stream",
     "text": [
      "\n",
      "\tpreparing data for parallel grubbs test\n"
     ]
    },
    {
     "name": "stderr",
     "output_type": "stream",
     "text": [
      "0it [00:00, ?it/s]\n"
     ]
    },
    {
     "name": "stdout",
     "output_type": "stream",
     "text": [
      "\n",
      "\trunning grubbs test\n",
      "\n",
      "\tprocessing image chunk 145/168\n",
      "\n",
      "\tgetting data chunks for grubbs test\n"
     ]
    },
    {
     "name": "stderr",
     "output_type": "stream",
     "text": [
      "100%|██████████| 489/489 [00:00<00:00, 4053388.65it/s]\n"
     ]
    },
    {
     "name": "stdout",
     "output_type": "stream",
     "text": [
      "\n",
      "\tpreparing data for parallel grubbs test\n"
     ]
    },
    {
     "name": "stderr",
     "output_type": "stream",
     "text": [
      "0it [00:00, ?it/s]\n"
     ]
    },
    {
     "name": "stdout",
     "output_type": "stream",
     "text": [
      "\n",
      "\trunning grubbs test\n",
      "\n",
      "\tprocessing image chunk 146/168\n",
      "\n",
      "\tgetting data chunks for grubbs test\n"
     ]
    },
    {
     "name": "stderr",
     "output_type": "stream",
     "text": [
      "100%|██████████| 489/489 [00:00<00:00, 4449055.65it/s]\n"
     ]
    },
    {
     "name": "stdout",
     "output_type": "stream",
     "text": [
      "\n",
      "\tpreparing data for parallel grubbs test\n"
     ]
    },
    {
     "name": "stderr",
     "output_type": "stream",
     "text": [
      "0it [00:00, ?it/s]\n"
     ]
    },
    {
     "name": "stdout",
     "output_type": "stream",
     "text": [
      "\n",
      "\trunning grubbs test\n",
      "\n",
      "\tprocessing image chunk 147/168\n",
      "\n",
      "\tgetting data chunks for grubbs test\n"
     ]
    },
    {
     "name": "stderr",
     "output_type": "stream",
     "text": [
      "100%|██████████| 489/489 [00:00<00:00, 4177219.26it/s]\n"
     ]
    },
    {
     "name": "stdout",
     "output_type": "stream",
     "text": [
      "\n",
      "\tpreparing data for parallel grubbs test\n"
     ]
    },
    {
     "name": "stderr",
     "output_type": "stream",
     "text": [
      "0it [00:00, ?it/s]\n"
     ]
    },
    {
     "name": "stdout",
     "output_type": "stream",
     "text": [
      "\n",
      "\trunning grubbs test\n",
      "\n",
      "\tprocessing image chunk 148/168\n",
      "\n",
      "\tgetting data chunks for grubbs test\n"
     ]
    },
    {
     "name": "stderr",
     "output_type": "stream",
     "text": [
      "100%|██████████| 489/489 [00:00<00:00, 3702192.52it/s]\n"
     ]
    },
    {
     "name": "stdout",
     "output_type": "stream",
     "text": [
      "\n",
      "\tpreparing data for parallel grubbs test\n"
     ]
    },
    {
     "name": "stderr",
     "output_type": "stream",
     "text": [
      "0it [00:00, ?it/s]\n"
     ]
    },
    {
     "name": "stdout",
     "output_type": "stream",
     "text": [
      "\n",
      "\trunning grubbs test\n",
      "\n",
      "\tprocessing image chunk 149/168\n",
      "\n",
      "\tgetting data chunks for grubbs test\n"
     ]
    },
    {
     "name": "stderr",
     "output_type": "stream",
     "text": [
      "100%|██████████| 489/489 [00:00<00:00, 4143463.95it/s]\n"
     ]
    },
    {
     "name": "stdout",
     "output_type": "stream",
     "text": [
      "\n",
      "\tpreparing data for parallel grubbs test\n"
     ]
    },
    {
     "name": "stderr",
     "output_type": "stream",
     "text": [
      "0it [00:00, ?it/s]\n"
     ]
    },
    {
     "name": "stdout",
     "output_type": "stream",
     "text": [
      "\n",
      "\trunning grubbs test\n",
      "\n",
      "\tprocessing image chunk 150/168\n",
      "\n",
      "\tgetting data chunks for grubbs test\n"
     ]
    },
    {
     "name": "stderr",
     "output_type": "stream",
     "text": [
      "100%|██████████| 489/489 [00:00<00:00, 3702192.52it/s]\n"
     ]
    },
    {
     "name": "stdout",
     "output_type": "stream",
     "text": [
      "\n",
      "\tpreparing data for parallel grubbs test\n"
     ]
    },
    {
     "name": "stderr",
     "output_type": "stream",
     "text": [
      "0it [00:00, ?it/s]\n"
     ]
    },
    {
     "name": "stdout",
     "output_type": "stream",
     "text": [
      "\n",
      "\trunning grubbs test\n",
      "\n",
      "\tprocessing image chunk 151/168\n",
      "\n",
      "\tgetting data chunks for grubbs test\n"
     ]
    },
    {
     "name": "stderr",
     "output_type": "stream",
     "text": [
      "100%|██████████| 489/489 [00:00<00:00, 4255217.13it/s]\n"
     ]
    },
    {
     "name": "stdout",
     "output_type": "stream",
     "text": [
      "\n",
      "\tpreparing data for parallel grubbs test\n"
     ]
    },
    {
     "name": "stderr",
     "output_type": "stream",
     "text": [
      "0it [00:00, ?it/s]\n"
     ]
    },
    {
     "name": "stdout",
     "output_type": "stream",
     "text": [
      "\n",
      "\trunning grubbs test\n",
      "\n",
      "\tprocessing image chunk 152/168\n",
      "\n",
      "\tgetting data chunks for grubbs test\n"
     ]
    },
    {
     "name": "stderr",
     "output_type": "stream",
     "text": [
      "100%|██████████| 489/489 [00:00<00:00, 4458727.51it/s]\n"
     ]
    },
    {
     "name": "stdout",
     "output_type": "stream",
     "text": [
      "\n",
      "\tpreparing data for parallel grubbs test\n"
     ]
    },
    {
     "name": "stderr",
     "output_type": "stream",
     "text": [
      "0it [00:00, ?it/s]\n"
     ]
    },
    {
     "name": "stdout",
     "output_type": "stream",
     "text": [
      "\n",
      "\trunning grubbs test\n",
      "\n",
      "\tprocessing image chunk 153/168\n",
      "\n",
      "\tgetting data chunks for grubbs test\n"
     ]
    },
    {
     "name": "stderr",
     "output_type": "stream",
     "text": [
      "100%|██████████| 489/489 [00:00<00:00, 4255217.13it/s]\n"
     ]
    },
    {
     "name": "stdout",
     "output_type": "stream",
     "text": [
      "\n",
      "\tpreparing data for parallel grubbs test\n"
     ]
    },
    {
     "name": "stderr",
     "output_type": "stream",
     "text": [
      "0it [00:00, ?it/s]\n"
     ]
    },
    {
     "name": "stdout",
     "output_type": "stream",
     "text": [
      "\n",
      "\trunning grubbs test\n",
      "\n",
      "\tprocessing image chunk 154/168\n",
      "\n",
      "\tgetting data chunks for grubbs test\n"
     ]
    },
    {
     "name": "stderr",
     "output_type": "stream",
     "text": [
      "100%|██████████| 489/489 [00:00<00:00, 4005888.00it/s]\n"
     ]
    },
    {
     "name": "stdout",
     "output_type": "stream",
     "text": [
      "\n",
      "\tpreparing data for parallel grubbs test\n"
     ]
    },
    {
     "name": "stderr",
     "output_type": "stream",
     "text": [
      "0it [00:00, ?it/s]\n"
     ]
    },
    {
     "name": "stdout",
     "output_type": "stream",
     "text": [
      "\n",
      "\trunning grubbs test\n",
      "\n",
      "\tprocessing image chunk 155/168\n",
      "\n",
      "\tgetting data chunks for grubbs test\n"
     ]
    },
    {
     "name": "stderr",
     "output_type": "stream",
     "text": [
      "100%|██████████| 489/489 [00:00<00:00, 4185744.20it/s]\n"
     ]
    },
    {
     "name": "stdout",
     "output_type": "stream",
     "text": [
      "\n",
      "\tpreparing data for parallel grubbs test\n"
     ]
    },
    {
     "name": "stderr",
     "output_type": "stream",
     "text": [
      "0it [00:00, ?it/s]\n"
     ]
    },
    {
     "name": "stdout",
     "output_type": "stream",
     "text": [
      "\n",
      "\trunning grubbs test\n",
      "\n",
      "\tprocessing image chunk 156/168\n",
      "\n",
      "\tgetting data chunks for grubbs test\n"
     ]
    },
    {
     "name": "stderr",
     "output_type": "stream",
     "text": [
      "100%|██████████| 489/489 [00:00<00:00, 4401319.00it/s]\n"
     ]
    },
    {
     "name": "stdout",
     "output_type": "stream",
     "text": [
      "\n",
      "\tpreparing data for parallel grubbs test\n"
     ]
    },
    {
     "name": "stderr",
     "output_type": "stream",
     "text": [
      "0it [00:00, ?it/s]\n"
     ]
    },
    {
     "name": "stdout",
     "output_type": "stream",
     "text": [
      "\n",
      "\trunning grubbs test\n",
      "\n",
      "\tprocessing image chunk 157/168\n",
      "\n",
      "\tgetting data chunks for grubbs test\n"
     ]
    },
    {
     "name": "stderr",
     "output_type": "stream",
     "text": [
      "100%|██████████| 489/489 [00:00<00:00, 4354595.87it/s]\n"
     ]
    },
    {
     "name": "stdout",
     "output_type": "stream",
     "text": [
      "\n",
      "\tpreparing data for parallel grubbs test\n"
     ]
    },
    {
     "name": "stderr",
     "output_type": "stream",
     "text": [
      "0it [00:00, ?it/s]\n"
     ]
    },
    {
     "name": "stdout",
     "output_type": "stream",
     "text": [
      "\n",
      "\trunning grubbs test\n",
      "\n",
      "\tprocessing image chunk 158/168\n",
      "\n",
      "\tgetting data chunks for grubbs test\n"
     ]
    },
    {
     "name": "stderr",
     "output_type": "stream",
     "text": [
      "100%|██████████| 489/489 [00:00<00:00, 4567961.37it/s]\n"
     ]
    },
    {
     "name": "stdout",
     "output_type": "stream",
     "text": [
      "\n",
      "\tpreparing data for parallel grubbs test\n"
     ]
    },
    {
     "name": "stderr",
     "output_type": "stream",
     "text": [
      "0it [00:00, ?it/s]\n"
     ]
    },
    {
     "name": "stdout",
     "output_type": "stream",
     "text": [
      "\n",
      "\trunning grubbs test\n",
      "\n",
      "\tprocessing image chunk 159/168\n",
      "\n",
      "\tgetting data chunks for grubbs test\n"
     ]
    },
    {
     "name": "stderr",
     "output_type": "stream",
     "text": [
      "100%|██████████| 489/489 [00:00<00:00, 4609021.70it/s]\n"
     ]
    },
    {
     "name": "stdout",
     "output_type": "stream",
     "text": [
      "\n",
      "\tpreparing data for parallel grubbs test\n"
     ]
    },
    {
     "name": "stderr",
     "output_type": "stream",
     "text": [
      "0it [00:00, ?it/s]\n"
     ]
    },
    {
     "name": "stdout",
     "output_type": "stream",
     "text": [
      "\n",
      "\trunning grubbs test\n",
      "\n",
      "\tprocessing image chunk 160/168\n",
      "\n",
      "\tgetting data chunks for grubbs test\n"
     ]
    },
    {
     "name": "stderr",
     "output_type": "stream",
     "text": [
      "100%|██████████| 489/489 [00:00<00:00, 4401319.00it/s]\n"
     ]
    },
    {
     "name": "stdout",
     "output_type": "stream",
     "text": [
      "\n",
      "\tpreparing data for parallel grubbs test\n"
     ]
    },
    {
     "name": "stderr",
     "output_type": "stream",
     "text": [
      "0it [00:00, ?it/s]\n"
     ]
    },
    {
     "name": "stdout",
     "output_type": "stream",
     "text": [
      "\n",
      "\trunning grubbs test\n",
      "\n",
      "\tprocessing image chunk 161/168\n",
      "\n",
      "\tgetting data chunks for grubbs test\n"
     ]
    },
    {
     "name": "stderr",
     "output_type": "stream",
     "text": [
      "100%|██████████| 489/489 [00:00<00:00, 4661396.95it/s]\n"
     ]
    },
    {
     "name": "stdout",
     "output_type": "stream",
     "text": [
      "\n",
      "\tpreparing data for parallel grubbs test\n"
     ]
    },
    {
     "name": "stderr",
     "output_type": "stream",
     "text": [
      "0it [00:00, ?it/s]\n"
     ]
    },
    {
     "name": "stdout",
     "output_type": "stream",
     "text": [
      "\n",
      "\trunning grubbs test\n",
      "\n",
      "\tprocessing image chunk 162/168\n",
      "\n",
      "\tgetting data chunks for grubbs test\n"
     ]
    },
    {
     "name": "stderr",
     "output_type": "stream",
     "text": [
      "100%|██████████| 489/489 [00:00<00:00, 4704162.06it/s]\n"
     ]
    },
    {
     "name": "stdout",
     "output_type": "stream",
     "text": [
      "\n",
      "\tpreparing data for parallel grubbs test\n"
     ]
    },
    {
     "name": "stderr",
     "output_type": "stream",
     "text": [
      "0it [00:00, ?it/s]\n"
     ]
    },
    {
     "name": "stdout",
     "output_type": "stream",
     "text": [
      "\n",
      "\trunning grubbs test\n",
      "\n",
      "\tprocessing image chunk 163/168\n",
      "\n",
      "\tgetting data chunks for grubbs test\n"
     ]
    },
    {
     "name": "stderr",
     "output_type": "stream",
     "text": [
      "100%|██████████| 489/489 [00:00<00:00, 4478197.94it/s]\n"
     ]
    },
    {
     "name": "stdout",
     "output_type": "stream",
     "text": [
      "\n",
      "\tpreparing data for parallel grubbs test\n"
     ]
    },
    {
     "name": "stderr",
     "output_type": "stream",
     "text": [
      "0it [00:00, ?it/s]\n"
     ]
    },
    {
     "name": "stdout",
     "output_type": "stream",
     "text": [
      "\n",
      "\trunning grubbs test\n",
      "\n",
      "\tprocessing image chunk 164/168\n",
      "\n",
      "\tgetting data chunks for grubbs test\n"
     ]
    },
    {
     "name": "stderr",
     "output_type": "stream",
     "text": [
      "100%|██████████| 489/489 [00:00<00:00, 4758734.70it/s]\n"
     ]
    },
    {
     "name": "stdout",
     "output_type": "stream",
     "text": [
      "\n",
      "\tpreparing data for parallel grubbs test\n"
     ]
    },
    {
     "name": "stderr",
     "output_type": "stream",
     "text": [
      "0it [00:00, ?it/s]\n"
     ]
    },
    {
     "name": "stdout",
     "output_type": "stream",
     "text": [
      "\n",
      "\trunning grubbs test\n",
      "\n",
      "\tprocessing image chunk 165/168\n",
      "\n",
      "\tgetting data chunks for grubbs test\n"
     ]
    },
    {
     "name": "stderr",
     "output_type": "stream",
     "text": [
      "100%|██████████| 489/489 [00:00<00:00, 4661396.95it/s]\n"
     ]
    },
    {
     "name": "stdout",
     "output_type": "stream",
     "text": [
      "\n",
      "\tpreparing data for parallel grubbs test\n"
     ]
    },
    {
     "name": "stderr",
     "output_type": "stream",
     "text": [
      "0it [00:00, ?it/s]\n"
     ]
    },
    {
     "name": "stdout",
     "output_type": "stream",
     "text": [
      "\n",
      "\trunning grubbs test\n",
      "\n",
      "\tprocessing image chunk 166/168\n",
      "\n",
      "\tgetting data chunks for grubbs test\n"
     ]
    },
    {
     "name": "stderr",
     "output_type": "stream",
     "text": [
      "100%|██████████| 489/489 [00:00<00:00, 4410784.21it/s]\n"
     ]
    },
    {
     "name": "stdout",
     "output_type": "stream",
     "text": [
      "\n",
      "\tpreparing data for parallel grubbs test\n"
     ]
    },
    {
     "name": "stderr",
     "output_type": "stream",
     "text": [
      "0it [00:00, ?it/s]\n"
     ]
    },
    {
     "name": "stdout",
     "output_type": "stream",
     "text": [
      "\n",
      "\trunning grubbs test\n",
      "\n",
      "\tprocessing image chunk 167/168\n",
      "\n",
      "\tgetting data chunks for grubbs test\n"
     ]
    },
    {
     "name": "stderr",
     "output_type": "stream",
     "text": [
      "100%|██████████| 489/489 [00:00<00:00, 4327035.14it/s]\n"
     ]
    },
    {
     "name": "stdout",
     "output_type": "stream",
     "text": [
      "\n",
      "\tpreparing data for parallel grubbs test\n"
     ]
    },
    {
     "name": "stderr",
     "output_type": "stream",
     "text": [
      "0it [00:00, ?it/s]\n"
     ]
    },
    {
     "name": "stdout",
     "output_type": "stream",
     "text": [
      "\n",
      "\trunning grubbs test\n",
      "\n",
      "\tprocessing image chunk 168/168\n",
      "\n",
      "\tgetting data chunks for grubbs test\n"
     ]
    },
    {
     "name": "stderr",
     "output_type": "stream",
     "text": [
      "100%|██████████| 489/489 [00:00<00:00, 4661396.95it/s]\n"
     ]
    },
    {
     "name": "stdout",
     "output_type": "stream",
     "text": [
      "\n",
      "\tpreparing data for parallel grubbs test\n"
     ]
    },
    {
     "name": "stderr",
     "output_type": "stream",
     "text": [
      "0it [00:00, ?it/s]\n"
     ]
    },
    {
     "name": "stdout",
     "output_type": "stream",
     "text": [
      "\n",
      "\trunning grubbs test\n",
      "\tbuilding vote cube\n"
     ]
    },
    {
     "name": "stderr",
     "output_type": "stream",
     "text": [
      "  0%|          | 0/489 [00:00<?, ?it/s]\n"
     ]
    },
    {
     "ename": "IndexError",
     "evalue": "list index out of range",
     "output_type": "error",
     "traceback": [
      "\u001b[0;31m---------------------------------------------------------------------------\u001b[0m",
      "\u001b[0;31mIndexError\u001b[0m                                Traceback (most recent call last)",
      "\u001b[1;32m/Users/phillipsm/Documents/Software/HyPyRameter/hypyrameter/ImageCubeParamsExample.ipynb Cell 3\u001b[0m line \u001b[0;36m2\n\u001b[1;32m      <a href='vscode-notebook-cell:/Users/phillipsm/Documents/Software/HyPyRameter/hypyrameter/ImageCubeParamsExample.ipynb#W2sZmlsZQ%3D%3D?line=0'>1</a>\u001b[0m \u001b[39m# Instantiate the class and select your input image and output directory\u001b[39;00m\n\u001b[0;32m----> <a href='vscode-notebook-cell:/Users/phillipsm/Documents/Software/HyPyRameter/hypyrameter/ImageCubeParamsExample.ipynb#W2sZmlsZQ%3D%3D?line=1'>2</a>\u001b[0m pc \u001b[39m=\u001b[39m cubeParamCalculator(denoise\u001b[39m=\u001b[39;49m\u001b[39mTrue\u001b[39;49;00m)\n",
      "File \u001b[0;32m~/anaconda3/envs/hypy_test_online/lib/python3.10/site-packages/hypyrameter-0.1.0-py3.10.egg/hypyrameter/paramCalculator.py:122\u001b[0m, in \u001b[0;36mcubeParamCalculator.__init__\u001b[0;34m(self, crop, bbl, interpNans, flip, transpose, denoise, preview)\u001b[0m\n\u001b[1;32m    120\u001b[0m \u001b[39mif\u001b[39;00m denoise:\n\u001b[1;32m    121\u001b[0m     \u001b[39mprint\u001b[39m(\u001b[39m'\u001b[39m\u001b[39mdenoising cube\u001b[39m\u001b[39m'\u001b[39m)\n\u001b[0;32m--> 122\u001b[0m     \u001b[39mself\u001b[39;49m\u001b[39m.\u001b[39;49mdenoiser()\n\u001b[1;32m    124\u001b[0m \u001b[39mself\u001b[39m\u001b[39m.\u001b[39mcube \u001b[39m=\u001b[39m \u001b[39mself\u001b[39m\u001b[39m.\u001b[39mf\n\u001b[1;32m    125\u001b[0m \u001b[39m# remove funky values\u001b[39;00m\n",
      "File \u001b[0;32m~/anaconda3/envs/hypy_test_online/lib/python3.10/site-packages/hypyrameter-0.1.0-py3.10.egg/hypyrameter/paramCalculator.py:143\u001b[0m, in \u001b[0;36mcubeParamCalculator.denoiser\u001b[0;34m(self)\u001b[0m\n\u001b[1;32m    141\u001b[0m \u001b[39mdef\u001b[39;00m \u001b[39mdenoiser\u001b[39m(\u001b[39mself\u001b[39m):\n\u001b[1;32m    142\u001b[0m     dn \u001b[39m=\u001b[39m iovf(\u001b[39mself\u001b[39m\u001b[39m.\u001b[39mf, \u001b[39m'\u001b[39m\u001b[39m'\u001b[39m)\n\u001b[0;32m--> 143\u001b[0m     dn\u001b[39m.\u001b[39;49mrun()\n\u001b[1;32m    144\u001b[0m     \u001b[39mself\u001b[39m\u001b[39m.\u001b[39mf \u001b[39m=\u001b[39m dn\u001b[39m.\u001b[39mflt\n\u001b[1;32m    145\u001b[0m     file_name \u001b[39m=\u001b[39m \u001b[39mself\u001b[39m\u001b[39m.\u001b[39mfile\u001b[39m.\u001b[39msplit(\u001b[39m'\u001b[39m\u001b[39m/\u001b[39m\u001b[39m'\u001b[39m)[\u001b[39m-\u001b[39m\u001b[39m1\u001b[39m]\u001b[39m.\u001b[39msplit(\u001b[39m'\u001b[39m\u001b[39m.\u001b[39m\u001b[39m'\u001b[39m)[\u001b[39m0\u001b[39m]\n",
      "File \u001b[0;32m~/anaconda3/envs/hypy_test_online/lib/python3.10/site-packages/hypyrameter-0.1.0-py3.10.egg/hypyrameter/iovf_generic.py:808\u001b[0m, in \u001b[0;36miovf.run\u001b[0;34m(self, save, window)\u001b[0m\n\u001b[1;32m    806\u001b[0m time1 \u001b[39m=\u001b[39m timeit\u001b[39m.\u001b[39mdefault_timer()\n\u001b[1;32m    807\u001b[0m \u001b[39mself\u001b[39m\u001b[39m.\u001b[39mflt \u001b[39m=\u001b[39m copy\u001b[39m.\u001b[39mdeepcopy(\u001b[39mself\u001b[39m\u001b[39m.\u001b[39mpre_cube)\n\u001b[0;32m--> 808\u001b[0m \u001b[39mself\u001b[39;49m\u001b[39m.\u001b[39;49mrun_iovf(window\u001b[39m=\u001b[39;49mwindow)\n\u001b[1;32m    809\u001b[0m \u001b[39mself\u001b[39m\u001b[39m.\u001b[39mflt \u001b[39m=\u001b[39m \u001b[39mself\u001b[39m\u001b[39m.\u001b[39mnoise_cube \u001b[39m+\u001b[39m \u001b[39mself\u001b[39m\u001b[39m.\u001b[39mref_cube\n\u001b[1;32m    810\u001b[0m time2 \u001b[39m=\u001b[39m np\u001b[39m.\u001b[39mround((timeit\u001b[39m.\u001b[39mdefault_timer()\u001b[39m-\u001b[39mtime1)\u001b[39m/\u001b[39m\u001b[39m60\u001b[39m,\u001b[39m2\u001b[39m)\n",
      "File \u001b[0;32m~/anaconda3/envs/hypy_test_online/lib/python3.10/site-packages/hypyrameter-0.1.0-py3.10.egg/hypyrameter/iovf_generic.py:506\u001b[0m, in \u001b[0;36miovf.run_iovf\u001b[0;34m(self, window, view_votes)\u001b[0m\n\u001b[1;32m    503\u001b[0m \u001b[39mif\u001b[39;00m r \u001b[39m<\u001b[39m \u001b[39m2\u001b[39m:\n\u001b[1;32m    504\u001b[0m     \u001b[39m# on the first round, run the whole cube\u001b[39;00m\n\u001b[1;32m    505\u001b[0m     tic \u001b[39m=\u001b[39m timeit\u001b[39m.\u001b[39mdefault_timer()\n\u001b[0;32m--> 506\u001b[0m     \u001b[39mself\u001b[39m\u001b[39m.\u001b[39mvc \u001b[39m=\u001b[39m \u001b[39mself\u001b[39;49m\u001b[39m.\u001b[39;49miterative_outlier_filter(window\u001b[39m=\u001b[39;49mwindow)\n\u001b[1;32m    507\u001b[0m     \u001b[39m# self.noise_cube = np.where(self.vc>=vt,np.nan,self.noise_cube)\u001b[39;00m\n\u001b[1;32m    508\u001b[0m     update_indeces \u001b[39m=\u001b[39m np\u001b[39m.\u001b[39mwhere(\u001b[39mself\u001b[39m\u001b[39m.\u001b[39mvc\u001b[39m>\u001b[39m\u001b[39m=\u001b[39mvt)\n",
      "File \u001b[0;32m~/anaconda3/envs/hypy_test_online/lib/python3.10/site-packages/hypyrameter-0.1.0-py3.10.egg/hypyrameter/iovf_generic.py:432\u001b[0m, in \u001b[0;36miovf.iterative_outlier_filter\u001b[0;34m(self, update_indeces, window, chunk_image)\u001b[0m\n\u001b[1;32m    430\u001b[0m     \u001b[39mfor\u001b[39;00m vbsi, chunk \u001b[39min\u001b[39;00m \u001b[39mzip\u001b[39m(vbsi_, chunks):\n\u001b[1;32m    431\u001b[0m         s_ \u001b[39m=\u001b[39m chunk\u001b[39m.\u001b[39mshape\n\u001b[0;32m--> 432\u001b[0m         vc_\u001b[39m.\u001b[39mappend(\u001b[39mself\u001b[39;49m\u001b[39m.\u001b[39;49mbuild_vote_cube(vbsi, s_, window))\n\u001b[1;32m    433\u001b[0m     vc \u001b[39m=\u001b[39m \u001b[39mself\u001b[39m\u001b[39m.\u001b[39munchunk_data(vc_)\n\u001b[1;32m    435\u001b[0m     \u001b[39m# run all in serial *****************************\u001b[39;00m\n\u001b[1;32m    436\u001b[0m     \u001b[39m# vbs = self.get_vote_block_serial(grubbs_chunks,windows)\u001b[39;00m\n\u001b[1;32m    437\u001b[0m     \u001b[39m# **********************************************************\u001b[39;00m\n\u001b[1;32m    438\u001b[0m     \n\u001b[1;32m    439\u001b[0m \u001b[39melse\u001b[39;00m:\n",
      "File \u001b[0;32m~/anaconda3/envs/hypy_test_online/lib/python3.10/site-packages/hypyrameter-0.1.0-py3.10.egg/hypyrameter/iovf_generic.py:275\u001b[0m, in \u001b[0;36miovf.build_vote_cube\u001b[0;34m(self, vbsi, s, window, update_indeces)\u001b[0m\n\u001b[1;32m    272\u001b[0m \u001b[39melif\u001b[39;00m \u001b[39m1\u001b[39m\u001b[39m+\u001b[39mb\u001b[39m+\u001b[39mbb \u001b[39m>\u001b[39m s[\u001b[39m2\u001b[39m]:\n\u001b[1;32m    273\u001b[0m     b1 \u001b[39m=\u001b[39m \u001b[39m-\u001b[39m(\u001b[39m1\u001b[39m\u001b[39m+\u001b[39mb\u001b[39m+\u001b[39mbb \u001b[39m-\u001b[39m s[\u001b[39m2\u001b[39m])\n\u001b[0;32m--> 275\u001b[0m identifier \u001b[39m=\u001b[39m vbsi[pixel_index][\u001b[39m1\u001b[39m]\n\u001b[1;32m    276\u001b[0m \u001b[39mtry\u001b[39;00m:\n\u001b[1;32m    277\u001b[0m     vc[i\u001b[39m-\u001b[39mii\u001b[39m+\u001b[39mi0:i\u001b[39m+\u001b[39mii\u001b[39m-\u001b[39mi1\u001b[39m+\u001b[39m\u001b[39m1\u001b[39m,\n\u001b[1;32m    278\u001b[0m        j\u001b[39m-\u001b[39mjj\u001b[39m+\u001b[39mj0:j\u001b[39m+\u001b[39mjj\u001b[39m-\u001b[39mj1\u001b[39m+\u001b[39m\u001b[39m1\u001b[39m,\n\u001b[1;32m    279\u001b[0m        b\u001b[39m-\u001b[39mbb\u001b[39m+\u001b[39mb0:b\u001b[39m+\u001b[39mbb\u001b[39m-\u001b[39mb1\u001b[39m+\u001b[39m\u001b[39m1\u001b[39m] \u001b[39m=\u001b[39m vbsi[identifier][\u001b[39m0\u001b[39m] \u001b[39m+\u001b[39m vc[i\u001b[39m-\u001b[39mii\u001b[39m+\u001b[39mi0:i\u001b[39m+\u001b[39mii\u001b[39m-\u001b[39mi1\u001b[39m+\u001b[39m\u001b[39m1\u001b[39m,\n\u001b[1;32m    280\u001b[0m                                                      j\u001b[39m-\u001b[39mjj\u001b[39m+\u001b[39mj0:j\u001b[39m+\u001b[39mjj\u001b[39m-\u001b[39mj1\u001b[39m+\u001b[39m\u001b[39m1\u001b[39m,\n\u001b[1;32m    281\u001b[0m                                                      b\u001b[39m-\u001b[39mbb\u001b[39m+\u001b[39mb0:b\u001b[39m+\u001b[39mbb\u001b[39m-\u001b[39mb1\u001b[39m+\u001b[39m\u001b[39m1\u001b[39m]\n",
      "\u001b[0;31mIndexError\u001b[0m: list index out of range"
     ]
    }
   ],
   "source": [
    "# Instantiate the class and select your input image and output directory\n",
    "pc = cubeParamCalculator(denoise=True)"
   ]
  },
  {
   "cell_type": "code",
   "execution_count": null,
   "metadata": {},
   "outputs": [],
   "source": [
    "# Run the calculator and save the results\n",
    "pc.run()"
   ]
  },
  {
   "cell_type": "code",
   "execution_count": null,
   "metadata": {},
   "outputs": [],
   "source": []
  }
 ],
 "metadata": {
  "kernelspec": {
   "display_name": "hypyrameter",
   "language": "python",
   "name": "python3"
  },
  "language_info": {
   "codemirror_mode": {
    "name": "ipython",
    "version": 3
   },
   "file_extension": ".py",
   "mimetype": "text/x-python",
   "name": "python",
   "nbconvert_exporter": "python",
   "pygments_lexer": "ipython3",
   "version": "3.10.13"
  },
  "orig_nbformat": 4
 },
 "nbformat": 4,
 "nbformat_minor": 2
}
