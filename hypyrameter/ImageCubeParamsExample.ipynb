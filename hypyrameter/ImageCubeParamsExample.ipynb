{
 "cells": [
  {
   "cell_type": "markdown",
   "metadata": {},
   "source": [
    "# Example run of HyPyRameter Image Cube Calculator"
   ]
  },
  {
   "cell_type": "code",
   "execution_count": 1,
   "metadata": {},
   "outputs": [],
   "source": [
    "#Import the module\n",
    "from hypyrameter.paramCalculator import cubeParamCalculator"
   ]
  },
  {
   "cell_type": "code",
   "execution_count": 2,
   "metadata": {},
   "outputs": [
    {
     "name": "stdout",
     "output_type": "stream",
     "text": [
      "Select input hyperspectral cube\n"
     ]
    },
    {
     "name": "stderr",
     "output_type": "stream",
     "text": [
      "2023-11-14 15:59:23.763 python[58550:42404815] +[CATransaction synchronize] called within transaction\n",
      "2023-11-14 15:59:24.060 python[58550:42404815] +[CATransaction synchronize] called within transaction\n",
      "2023-11-14 15:59:28.222 python[58550:42404815] +[CATransaction synchronize] called within transaction\n"
     ]
    },
    {
     "name": "stdout",
     "output_type": "stream",
     "text": [
      "Selected file: /Volumes/Utumno/EMIT/EMIT-Data-Resources/data/EMIT_L2A_RFL_001_20230329T145406_2308809_052_reflectance_cropped_rio.hdr\n",
      "loading /Volumes/Utumno/EMIT/EMIT-Data-Resources/data/EMIT_L2A_RFL_001_20230329T145406_2308809_052_reflectance_cropped_rio.hdr using spectral\n",
      "\tobjects loaded\n",
      "\n",
      "Select output directory\n"
     ]
    },
    {
     "name": "stderr",
     "output_type": "stream",
     "text": [
      "2023-11-14 15:59:32.592 python[58550:42404815] +[CATransaction synchronize] called within transaction\n"
     ]
    },
    {
     "name": "stdout",
     "output_type": "stream",
     "text": [
      "Selected output directory: /Users/phillipsm/Documents/Software/HyPyRameter/example_output/image_cubes/pajonales/test2\n",
      "loading data\n",
      "\tdata loaded\n",
      "all parameters:\n",
      "\t['R463', 'R550', 'R637', 'R1080', 'R1506', 'R2529', 'HCPINDEX2', 'LCPINDEX2', 'OLINDEX3', 'SINDEX2', 'GINDEX', 'BD530_2', 'BD670', 'BD875', 'BD905', 'BD920_2', 'BD1200', 'BD1300', 'BD1400', 'BD1450', 'BD1750', 'BD1900_2', 'BD1900r2', 'BD2100_2', 'BD2100_3', 'BD2165', 'BD2190', 'BD2210_2', 'BD2250', 'BD2265', 'BD2290', 'BD2355', 'BDCARB', 'BA1200', 'BA1450', 'BA1900', 'D460', 'D700', 'D2200', 'D2300', 'MIN2295_2480', 'MIN2250', 'MIN2345_2537', 'RPEAK1', 'BDI1000VIS', 'ISLOPE', 'IRR2']\n",
      "0.32 minutes to load data\n"
     ]
    }
   ],
   "source": [
    "# Instantiate the class and select your input image and output directory\n",
    "pc = cubeParamCalculator()"
   ]
  },
  {
   "cell_type": "code",
   "execution_count": 3,
   "metadata": {},
   "outputs": [
    {
     "name": "stdout",
     "output_type": "stream",
     "text": [
      "calculating valid parameters\n",
      "['R463', 'R550', 'R637', 'R1080', 'R1506', 'LCPINDEX2', 'OLINDEX3', 'SINDEX2', 'GINDEX', 'BD530_2', 'BD670', 'BD875', 'BD905', 'BD920_2', 'BD1200', 'BD1300', 'BD1400', 'BD1450', 'BD1750', 'BD1900_2', 'BD1900r2', 'BD2100_2', 'BD2100_3', 'BD2165', 'BD2190', 'BD2210_2', 'BD2250', 'BD2265', 'BD2290', 'BD2355', 'BA1200', 'BA1450', 'BA1900', 'D460', 'D700', 'D2200', 'MIN2250', 'RPEAK1', 'BDI1000VIS']\n",
      "calculating: R463\n",
      "calculating: R550\n",
      "calculating: R637\n",
      "calculating: R1080\n",
      "calculating: R1506\n",
      "calculating: LCPINDEX2\n",
      "calculating: OLINDEX3\n",
      "calculating: SINDEX2\n",
      "calculating: GINDEX\n"
     ]
    },
    {
     "name": "stderr",
     "output_type": "stream",
     "text": [
      "/Users/phillipsm/Documents/Software/HyPyRameter/hypyrameter/bin/paramCalculator.py:323: RuntimeWarning: invalid value encountered in divide\n",
      "  img=((1-(R1690/Rc1690))*0.2) + ((1-(R1750/Rc1750))*0.2) + ((1-(R1810/Rc1810))*0.3) + ((1-(R1870/Rc1870))*0.3)\n",
      "/Users/phillipsm/Documents/Software/HyPyRameter/hypyrameter/bin/paramCalculator.py:360: RuntimeWarning: invalid value encountered in divide\n",
      "  img = (((Rc1210-R1210)/(abs(Rc1210)))*0.1) + (((Rc1250-R1250)/(abs(Rc1250)))*0.1) + (((Rc1263-R1263)/(abs(Rc1263)))*0.2) + (((Rc1276-R1276)/(abs(Rc1276)))*0.2) + (((Rc1330-R1330)/(abs(Rc1330)))*0.4)\n",
      "/Users/phillipsm/Documents/Software/HyPyRameter/hypyrameter/bin/utils.py:251: RuntimeWarning: invalid value encountered in divide\n",
      "  img = 1.0 - ((b*Rlow + a*Rhi)/Rmid)\n",
      "/Users/phillipsm/Documents/Software/HyPyRameter/hypyrameter/bin/utils.py:217: RuntimeWarning: invalid value encountered in divide\n",
      "  img = 1.0 - (Rmid/(b*Rlow + a*Rhi))\n",
      "/Users/phillipsm/Documents/Software/HyPyRameter/hypyrameter/bin/paramCalculator.py:518: RuntimeWarning: invalid value encountered in divide\n",
      "  img= 1.0-((R1908/CR1908+R1914/CR1914+R1921/CR1921+R1928/CR1928+R1934/CR1934+R1941/CR1941)/(R1862/CR1862+R1869/CR1869+R1875/CR1875+R2112/CR2112+R2120/CR2120+R2126/CR2126))\n"
     ]
    },
    {
     "name": "stdout",
     "output_type": "stream",
     "text": [
      "calculating: BD530_2\n",
      "calculating: BD670\n",
      "calculating: BD875\n",
      "calculating: BD905\n",
      "calculating: BD920_2\n",
      "calculating: BD1200\n",
      "calculating: BD1300\n",
      "calculating: BD1400\n",
      "calculating: BD1450\n",
      "calculating: BD1750\n",
      "calculating: BD1900_2\n",
      "calculating: BD1900r2\n",
      "calculating: BD2100_2\n",
      "calculating: BD2100_3\n",
      "calculating: BD2165\n",
      "calculating: BD2190\n",
      "calculating: BD2210_2\n",
      "calculating: BD2250\n",
      "calculating: BD2265\n",
      "calculating: BD2290\n",
      "calculating: BD2355\n",
      "calculating: BA1200\n",
      "calculating: BA1450\n",
      "calculating: BA1900\n"
     ]
    },
    {
     "name": "stderr",
     "output_type": "stream",
     "text": [
      "/Users/phillipsm/Documents/Software/HyPyRameter/hypyrameter/bin/paramCalculator.py:690: RuntimeWarning: invalid value encountered in divide\n",
      "  img = 1 - (((R690/CR690) + (R710/CR710) + (R720/CR720))/((R740/CR740) + (R760/CR760) + (R770/CR770)))\n",
      "/Users/phillipsm/Documents/Software/HyPyRameter/hypyrameter/bin/paramCalculator.py:721: RuntimeWarning: invalid value encountered in divide\n",
      "  img = 1 - (((R2210/CR2210) + (R2230/CR2230))/(2*(R2165/CR2165)))\n"
     ]
    },
    {
     "name": "stdout",
     "output_type": "stream",
     "text": [
      "calculating: D460\n",
      "calculating: D700\n",
      "calculating: D2200\n",
      "calculating: MIN2250\n",
      "calculating: RPEAK1\n",
      "\tpreparing polynomial arguments\n"
     ]
    },
    {
     "name": "stderr",
     "output_type": "stream",
     "text": [
      "100%|██████████| 65500/65500 [00:00<00:00, 3229269.95it/s]"
     ]
    },
    {
     "name": "stdout",
     "output_type": "stream",
     "text": [
      "\n",
      "\tcalculating polynomials\n"
     ]
    },
    {
     "name": "stderr",
     "output_type": "stream",
     "text": [
      "\n"
     ]
    },
    {
     "name": "stdout",
     "output_type": "stream",
     "text": [
      "\treturning peak reflectance and wavelengths of peak reflectance\n"
     ]
    },
    {
     "name": "stderr",
     "output_type": "stream",
     "text": [
      "65500it [00:02, 23331.46it/s]\n"
     ]
    },
    {
     "name": "stdout",
     "output_type": "stream",
     "text": [
      "\tre-shaping arrays\n",
      "calculating: BDI1000VIS\n",
      "\tnormalizing input data\n"
     ]
    },
    {
     "name": "stderr",
     "output_type": "stream",
     "text": [
      "  0%|          | 0/22 [00:00<?, ?it/s]/Users/phillipsm/Documents/Software/HyPyRameter/hypyrameter/bin/paramCalculator.py:873: RuntimeWarning: invalid value encountered in divide\n",
      "  bdi_norm[:,:,b] = bdi1000_cube[:,:,b]/rp_r\n",
      "100%|██████████| 22/22 [00:00<00:00, 3969.66it/s]\n"
     ]
    },
    {
     "name": "stdout",
     "output_type": "stream",
     "text": [
      "\tpreparing polynomial arguments\n"
     ]
    },
    {
     "name": "stderr",
     "output_type": "stream",
     "text": [
      "100%|██████████| 65536/65536 [00:00<00:00, 179173.71it/s]"
     ]
    },
    {
     "name": "stdout",
     "output_type": "stream",
     "text": [
      "\treturning integrated polynomial values\n"
     ]
    },
    {
     "name": "stderr",
     "output_type": "stream",
     "text": [
      "\n"
     ]
    },
    {
     "name": "stdout",
     "output_type": "stream",
     "text": [
      "\treshaping array\n",
      "calculation took 0.59 minutes\n",
      "Header file /Users/phillipsm/Documents/Software/HyPyRameter/example_output/image_cubes/pajonales/test2/EMIT_L2A_RFL_001_20230329T145406_2308809_052_reflectance_cropped_rio_params.hdr already exists. Use `force` keyword to force overwrite.\n",
      "calculating valid browse products\n",
      "\n",
      "valid browse products:\n",
      "['BIO', 'FM2', 'FM3', 'HEM', 'HYD', 'HYD2', 'HYD3', 'HYS', 'PAL', 'PLG', 'SUL', 'TRU']\n"
     ]
    },
    {
     "name": "stderr",
     "output_type": "stream",
     "text": [
      "/Users/phillipsm/Documents/Software/HyPyRameter/hypyrameter/bin/utils.py:324: RuntimeWarning: divide by zero encountered in divide\n",
      "  sp = (img_array - lower_percentile) * 255 / (upper_percentile - lower_percentile)\n",
      "/Users/phillipsm/Documents/Software/HyPyRameter/hypyrameter/bin/utils.py:324: RuntimeWarning: invalid value encountered in divide\n",
      "  sp = (img_array - lower_percentile) * 255 / (upper_percentile - lower_percentile)\n",
      "/Users/phillipsm/Documents/Software/HyPyRameter/hypyrameter/bin/utils.py:300: RuntimeWarning: invalid value encountered in divide\n",
      "  A[:,:,i] = np.array((255*((b-np.nanmin(b))/(np.nanmax(b)-np.nanmin(b)))),dtype='int')\n",
      "/Users/phillipsm/Documents/Software/HyPyRameter/hypyrameter/bin/utils.py:300: RuntimeWarning: invalid value encountered in cast\n",
      "  A[:,:,i] = np.array((255*((b-np.nanmin(b))/(np.nanmax(b)-np.nanmin(b)))),dtype='int')\n",
      "/Users/phillipsm/Documents/Software/HyPyRameter/hypyrameter/bin/utils.py:324: RuntimeWarning: divide by zero encountered in divide\n",
      "  sp = (img_array - lower_percentile) * 255 / (upper_percentile - lower_percentile)\n",
      "/Users/phillipsm/Documents/Software/HyPyRameter/hypyrameter/bin/utils.py:324: RuntimeWarning: invalid value encountered in divide\n",
      "  sp = (img_array - lower_percentile) * 255 / (upper_percentile - lower_percentile)\n",
      "/Users/phillipsm/Documents/Software/HyPyRameter/hypyrameter/bin/utils.py:300: RuntimeWarning: invalid value encountered in divide\n",
      "  A[:,:,i] = np.array((255*((b-np.nanmin(b))/(np.nanmax(b)-np.nanmin(b)))),dtype='int')\n",
      "/Users/phillipsm/Documents/Software/HyPyRameter/hypyrameter/bin/utils.py:300: RuntimeWarning: invalid value encountered in cast\n",
      "  A[:,:,i] = np.array((255*((b-np.nanmin(b))/(np.nanmax(b)-np.nanmin(b)))),dtype='int')\n"
     ]
    }
   ],
   "source": [
    "# Run the calculator and save the results\n",
    "pc.run()"
   ]
  },
  {
   "cell_type": "code",
   "execution_count": null,
   "metadata": {},
   "outputs": [],
   "source": []
  }
 ],
 "metadata": {
  "kernelspec": {
   "display_name": "hypyrameter",
   "language": "python",
   "name": "python3"
  },
  "language_info": {
   "codemirror_mode": {
    "name": "ipython",
    "version": 3
   },
   "file_extension": ".py",
   "mimetype": "text/x-python",
   "name": "python",
   "nbconvert_exporter": "python",
   "pygments_lexer": "ipython3",
   "version": "3.10.13"
  },
  "orig_nbformat": 4
 },
 "nbformat": 4,
 "nbformat_minor": 2
}
