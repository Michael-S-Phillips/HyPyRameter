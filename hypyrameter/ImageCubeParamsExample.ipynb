{
 "cells": [
  {
   "cell_type": "markdown",
   "metadata": {},
   "source": [
    "# Example run of HyPyRameter Image Cube Calculator"
   ]
  },
  {
   "cell_type": "code",
   "execution_count": 2,
   "metadata": {},
   "outputs": [],
   "source": [
    "#Import the module\n",
    "from hypyrameter.paramCalculator import cubeParamCalculator"
   ]
  },
  {
   "cell_type": "code",
   "execution_count": 4,
   "metadata": {},
   "outputs": [
    {
     "name": "stdout",
     "output_type": "stream",
     "text": [
      "Select input hyperspectral cube\n",
      "Selected file: /Volumes/Rohan/Mars_GIS_Data/CRISM/FeldsReview/CartPoulet2013/frt0000a26b_07_if164j_mtr3.hdr\n",
      "loading /Volumes/Rohan/Mars_GIS_Data/CRISM/FeldsReview/CartPoulet2013/frt0000a26b_07_if164j_mtr3.hdr using spectral\n",
      "\tobjects loaded\n",
      "\n",
      "Select output directory\n",
      "Selected output directory: /Volumes/Rohan/Mars_GIS_Data/CRISM/FeldsReview/CartPoulet2013/param_example\n",
      "loading data\n",
      "\tdata loaded\n",
      "all parameters:\n",
      "\t['R463', 'R550', 'R637', 'R1080', 'R1506', 'R2529', 'HCPINDEX2', 'LCPINDEX2', 'OLINDEX3', 'SINDEX2', 'GINDEX', 'BD530_2', 'BD670', 'BD875', 'BD905', 'BD920_2', 'BD1200', 'BD1300', 'BD1400', 'BD1450', 'BD1750', 'BD1900_2', 'BD1900r2', 'BD2100_2', 'BD2100_3', 'BD2165', 'BD2190', 'BD2210_2', 'BD2250', 'BD2265', 'BD2290', 'BD2355', 'BDCARB', 'BA1200', 'BA1450', 'BA1900', 'SH460', 'D700', 'D2200', 'D2300', 'MIN2295_2480', 'MIN2250', 'MIN2345_2537', 'RPEAK1', 'BDI1000VIS', 'ISLOPE', 'IRR2']\n",
      "0.44 minutes to load data\n"
     ]
    }
   ],
   "source": [
    "# Instantiate the class and select your input image and output directory\n",
    "pc = cubeParamCalculator()"
   ]
  },
  {
   "cell_type": "code",
   "execution_count": 5,
   "metadata": {},
   "outputs": [
    {
     "name": "stdout",
     "output_type": "stream",
     "text": [
      "calculating valid parameters\n",
      "['R463', 'R550', 'R637', 'R1080', 'R1506', 'R2529', 'HCPINDEX2', 'LCPINDEX2', 'OLINDEX3', 'SINDEX2', 'GINDEX', 'BD530_2', 'BD670', 'BD875', 'BD905', 'BD920_2', 'BD1200', 'BD1300', 'BD1400', 'BD1450', 'BD1750', 'BD1900_2', 'BD1900r2', 'BD2100_2', 'BD2100_3', 'BD2165', 'BD2190', 'BD2210_2', 'BD2250', 'BD2265', 'BD2290', 'BD2355', 'BDCARB', 'BA1200', 'BA1450', 'BA1900', 'D700', 'D2200', 'D2300', 'MIN2295_2480', 'MIN2250', 'MIN2345_2537', 'RPEAK1', 'BDI1000VIS', 'ISLOPE', 'IRR2']\n",
      "calculating: R463\n",
      "calculating: R550\n",
      "calculating: R637\n",
      "calculating: R1080\n",
      "calculating: R1506\n",
      "calculating: R2529\n",
      "calculating: HCPINDEX2\n",
      "calculating: LCPINDEX2\n",
      "calculating: OLINDEX3\n",
      "calculating: SINDEX2\n",
      "calculating: GINDEX\n",
      "calculating: BD530_2\n",
      "calculating: BD670\n",
      "calculating: BD875\n",
      "calculating: BD905\n"
     ]
    },
    {
     "name": "stderr",
     "output_type": "stream",
     "text": [
      "/Users/phillipsm/anaconda3/envs/hypy_test_online/lib/python3.10/site-packages/numpy/core/fromnumeric.py:3504: RuntimeWarning: Mean of empty slice.\n",
      "  return _methods._mean(a, axis=axis, dtype=dtype,\n",
      "/Users/phillipsm/anaconda3/envs/hypy_test_online/lib/python3.10/site-packages/numpy/core/_methods.py:121: RuntimeWarning: invalid value encountered in divide\n",
      "  ret = um.true_divide(\n",
      "/Users/phillipsm/anaconda3/envs/hypy_test_online/lib/python3.10/site-packages/hypyrameter-0.1.0-py3.10.egg/hypyrameter/utils.py:224: RuntimeWarning: All-NaN slice encountered\n"
     ]
    },
    {
     "name": "stdout",
     "output_type": "stream",
     "text": [
      "calculating: BD920_2\n",
      "calculating: BD1200\n",
      "calculating: BD1300\n",
      "calculating: BD1400\n",
      "calculating: BD1450\n",
      "calculating: BD1750\n",
      "calculating: BD1900_2\n",
      "calculating: BD1900r2\n",
      "calculating: BD2100_2\n",
      "calculating: BD2100_3\n",
      "calculating: BD2165\n",
      "calculating: BD2190\n",
      "calculating: BD2210_2\n",
      "calculating: BD2250\n",
      "calculating: BD2265\n",
      "calculating: BD2290\n",
      "calculating: BD2355\n",
      "calculating: BDCARB\n",
      "calculating: BA1200\n",
      "calculating: BA1450\n",
      "calculating: BA1900\n",
      "calculating: D700\n",
      "calculating: D2200\n",
      "calculating: D2300\n",
      "calculating: MIN2295_2480\n",
      "calculating: MIN2250\n",
      "calculating: MIN2345_2537\n",
      "calculating: RPEAK1\n",
      "\tpreparing polynomial arguments\n"
     ]
    },
    {
     "name": "stderr",
     "output_type": "stream",
     "text": [
      "100%|██████████| 318646/318646 [00:00<00:00, 1696369.39it/s]"
     ]
    },
    {
     "name": "stdout",
     "output_type": "stream",
     "text": [
      "\n",
      "\tcalculating polynomials\n"
     ]
    },
    {
     "name": "stderr",
     "output_type": "stream",
     "text": [
      "\n"
     ]
    },
    {
     "name": "stdout",
     "output_type": "stream",
     "text": [
      "\treturning peak reflectance and wavelengths of peak reflectance\n"
     ]
    },
    {
     "name": "stderr",
     "output_type": "stream",
     "text": [
      "318646it [00:13, 23677.75it/s]\n"
     ]
    },
    {
     "name": "stdout",
     "output_type": "stream",
     "text": [
      "\tre-shaping arrays\n",
      "calculating: BDI1000VIS\n",
      "\tnormalizing input data\n"
     ]
    },
    {
     "name": "stderr",
     "output_type": "stream",
     "text": [
      "100%|██████████| 25/25 [00:00<00:00, 358.48it/s]\n"
     ]
    },
    {
     "name": "stdout",
     "output_type": "stream",
     "text": [
      "\tpreparing polynomial arguments\n"
     ]
    },
    {
     "name": "stderr",
     "output_type": "stream",
     "text": [
      "100%|██████████| 470304/470304 [00:03<00:00, 129396.83it/s]"
     ]
    },
    {
     "name": "stdout",
     "output_type": "stream",
     "text": [
      "\treturning integrated polynomial values\n"
     ]
    },
    {
     "name": "stderr",
     "output_type": "stream",
     "text": [
      "\n"
     ]
    },
    {
     "name": "stdout",
     "output_type": "stream",
     "text": [
      "\treshaping array\n",
      "calculating: ISLOPE\n",
      "calculating: IRR2\n",
      "calculation took 3.7 minutes\n",
      "calculating valid browse products\n",
      "\n",
      "valid browse products:\n",
      "['BIO', 'CR2', 'FAL', 'FM2', 'FM3', 'HEM', 'HYD', 'HYD2', 'HYD3', 'HYS', 'MAF', 'PAL', 'PFM', 'PHY', 'PLG', 'SED', 'SUL', 'TRU']\n"
     ]
    },
    {
     "name": "stderr",
     "output_type": "stream",
     "text": [
      "/Users/phillipsm/anaconda3/envs/hypy_test_online/lib/python3.10/site-packages/hypyrameter-0.1.0-py3.10.egg/hypyrameter/utils.py:306: RuntimeWarning: All-NaN slice encountered\n",
      "/Users/phillipsm/anaconda3/envs/hypy_test_online/lib/python3.10/site-packages/hypyrameter-0.1.0-py3.10.egg/hypyrameter/utils.py:306: RuntimeWarning: invalid value encountered in cast\n",
      "/Users/phillipsm/anaconda3/envs/hypy_test_online/lib/python3.10/site-packages/hypyrameter-0.1.0-py3.10.egg/hypyrameter/utils.py:306: RuntimeWarning: All-NaN slice encountered\n",
      "/Users/phillipsm/anaconda3/envs/hypy_test_online/lib/python3.10/site-packages/hypyrameter-0.1.0-py3.10.egg/hypyrameter/utils.py:306: RuntimeWarning: invalid value encountered in cast\n",
      "/Users/phillipsm/anaconda3/envs/hypy_test_online/lib/python3.10/site-packages/hypyrameter-0.1.0-py3.10.egg/hypyrameter/utils.py:306: RuntimeWarning: All-NaN slice encountered\n",
      "/Users/phillipsm/anaconda3/envs/hypy_test_online/lib/python3.10/site-packages/hypyrameter-0.1.0-py3.10.egg/hypyrameter/utils.py:306: RuntimeWarning: invalid value encountered in cast\n",
      "/Users/phillipsm/anaconda3/envs/hypy_test_online/lib/python3.10/site-packages/hypyrameter-0.1.0-py3.10.egg/hypyrameter/utils.py:306: RuntimeWarning: All-NaN slice encountered\n",
      "/Users/phillipsm/anaconda3/envs/hypy_test_online/lib/python3.10/site-packages/hypyrameter-0.1.0-py3.10.egg/hypyrameter/utils.py:306: RuntimeWarning: invalid value encountered in cast\n",
      "/Users/phillipsm/anaconda3/envs/hypy_test_online/lib/python3.10/site-packages/hypyrameter-0.1.0-py3.10.egg/hypyrameter/utils.py:306: RuntimeWarning: All-NaN slice encountered\n",
      "/Users/phillipsm/anaconda3/envs/hypy_test_online/lib/python3.10/site-packages/hypyrameter-0.1.0-py3.10.egg/hypyrameter/utils.py:306: RuntimeWarning: invalid value encountered in cast\n"
     ]
    }
   ],
   "source": [
    "# Run the calculator and save the results\n",
    "pc.run()"
   ]
  },
  {
   "cell_type": "code",
   "execution_count": null,
   "metadata": {},
   "outputs": [],
   "source": []
  }
 ],
 "metadata": {
  "kernelspec": {
   "display_name": "hypyrameter",
   "language": "python",
   "name": "python3"
  },
  "language_info": {
   "codemirror_mode": {
    "name": "ipython",
    "version": 3
   },
   "file_extension": ".py",
   "mimetype": "text/x-python",
   "name": "python",
   "nbconvert_exporter": "python",
   "pygments_lexer": "ipython3",
   "version": "3.10.13"
  },
  "orig_nbformat": 4
 },
 "nbformat": 4,
 "nbformat_minor": 2
}
