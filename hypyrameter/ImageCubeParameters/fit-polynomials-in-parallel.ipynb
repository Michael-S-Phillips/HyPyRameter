{
 "cells": [
  {
   "cell_type": "code",
   "execution_count": 1,
   "id": "e4ef78c0",
   "metadata": {
    "ExecuteTime": {
     "end_time": "2022-07-18T23:10:16.596834Z",
     "start_time": "2022-07-18T23:10:16.343473Z"
    }
   },
   "outputs": [],
   "source": [
    "from joblib import delayed, Parallel\n",
    "\n",
    "from itertools import product\n",
    "from tqdm.auto import tqdm\n",
    "\n",
    "import numpy as np"
   ]
  },
  {
   "cell_type": "code",
   "execution_count": 2,
   "id": "893db2df",
   "metadata": {
    "ExecuteTime": {
     "end_time": "2022-07-18T23:10:19.201126Z",
     "start_time": "2022-07-18T23:10:16.599631Z"
    }
   },
   "outputs": [],
   "source": [
    "# Generate fake data\n",
    "x_size = 2600\n",
    "y_size = 2600\n",
    "wavelengths = np.arange(12)  # 12 spectral bins (= wavelengths)\n",
    "data = np.random.normal(0, 1, (x_size, y_size, 12))  # hyperspectral image"
   ]
  },
  {
   "cell_type": "code",
   "execution_count": 3,
   "id": "99739945",
   "metadata": {
    "ExecuteTime": {
     "end_time": "2022-07-18T23:13:21.214875Z",
     "start_time": "2022-07-18T23:10:19.204025Z"
    }
   },
   "outputs": [
    {
     "data": {
      "application/vnd.jupyter.widget-view+json": {
       "model_id": "1403896858124bb8830bf9b1b2a1f6d7",
       "version_major": 2,
       "version_minor": 0
      },
      "text/plain": [
       "  0%|          | 0/6760000 [00:00<?, ?it/s]"
      ]
     },
     "metadata": {},
     "output_type": "display_data"
    },
    {
     "data": {
      "application/vnd.jupyter.widget-view+json": {
       "model_id": "8e30708857a9464ab9f55f99586689f9",
       "version_major": 2,
       "version_minor": 0
      },
      "text/plain": [
       "  0%|          | 0/6760000 [00:00<?, ?it/s]"
      ]
     },
     "metadata": {},
     "output_type": "display_data"
    },
    {
     "name": "stdout",
     "output_type": "stream",
     "text": [
      "(2600, 2600, 4)\n"
     ]
    }
   ],
   "source": [
    "# Defiget_coeffsree of polynomial\n",
    "degree = 3\n",
    "\n",
    "# Define wrapper to get coefficients for pixel at (x, y)\n",
    "# We also need to return (x, y) because the parallel computation does not\n",
    "# necessarily preserve the order, so this is just the easiest way to keep\n",
    "# coefficients and coordinates grouped together\n",
    "def get_coeffs(x, y):\n",
    "    return x, y, np.polyfit(wavelengths, data[x, y], deg=degree)\n",
    "\n",
    "# Run 12 jobs in parallel to fit polymials and collect results in a list\n",
    "results = Parallel(n_jobs=12)(delayed(get_coeffs)(x, y) for x, y in tqdm(list(product(range(x_size), range(y_size)))))\n",
    "\n",
    "# Collect / reshape the list into a proper numpy array\n",
    "output = np.empty((x_size, y_size, degree + 1))\n",
    "for x, y, coeff in tqdm(results):\n",
    "    output[x, y] = coeff\n",
    "\n",
    "print(output.shape)"
   ]
  },
  {
   "cell_type": "code",
   "execution_count": 5,
   "id": "81b908fd",
   "metadata": {},
   "outputs": [
    {
     "data": {
      "text/plain": [
       "(2600, 2600, 12)"
      ]
     },
     "execution_count": 5,
     "metadata": {},
     "output_type": "execute_result"
    }
   ],
   "source": [
    "np.shape(data)"
   ]
  },
  {
   "cell_type": "code",
   "execution_count": null,
   "id": "b0159abb-bc32-44a0-aa35-3e604205e392",
   "metadata": {},
   "outputs": [],
   "source": []
  }
 ],
 "metadata": {
  "hide_input": false,
  "kernelspec": {
   "display_name": "Python 3 (ipykernel)",
   "language": "python",
   "name": "python3"
  },
  "language_info": {
   "codemirror_mode": {
    "name": "ipython",
    "version": 3
   },
   "file_extension": ".py",
   "mimetype": "text/x-python",
   "name": "python",
   "nbconvert_exporter": "python",
   "pygments_lexer": "ipython3",
   "version": "3.7.11"
  }
 },
 "nbformat": 4,
 "nbformat_minor": 5
}
