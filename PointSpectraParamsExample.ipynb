{
 "cells": [
  {
   "cell_type": "markdown",
   "metadata": {},
   "source": [
    "# Example for using PointSpectraParameters calculator"
   ]
  },
  {
   "cell_type": "code",
   "execution_count": 1,
   "metadata": {},
   "outputs": [],
   "source": [
    "#Import the module\n",
    "from hypyrameter.PointSpectraParameters.paramCalculator import oreXpressParamCalculator\n",
    "import pandas as pd\n",
    "import numpy as np\n",
    "import matplotlib.pyplot as plt\n",
    "import os"
   ]
  },
  {
   "cell_type": "markdown",
   "metadata": {},
   "source": [
    "## Instantiate the calculator"
   ]
  },
  {
   "cell_type": "code",
   "execution_count": null,
   "metadata": {},
   "outputs": [],
   "source": [
    "# instantiate the calculator\n",
    "data_path = '/Users/phillipsm/Documents/Software/HyPyRameter/hypyrameter/PointSpectraParameters/CompiledFieldSpectra_111219.csv'\n",
    "opc = oreXpressParamCalculator(data_path) ## opc is an object of the class oreXpressParamCalculator"
   ]
  },
  {
   "cell_type": "markdown",
   "metadata": {},
   "source": [
    "## Run the calculation"
   ]
  },
  {
   "cell_type": "code",
   "execution_count": null,
   "metadata": {},
   "outputs": [],
   "source": [
    "# calculate the parameters, saved in opc.parameter_df\n",
    "opc.run()"
   ]
  },
  {
   "cell_type": "markdown",
   "metadata": {},
   "source": [
    "## Make some plots"
   ]
  },
  {
   "cell_type": "code",
   "execution_count": null,
   "metadata": {},
   "outputs": [],
   "source": [
    "# In the future, we will add this as an option within the opc\n",
    "\n",
    "# Save path logic if saving the figures\n",
    "# figSavePath = rootPath+f'{target_}/ParameterOutput/'\n",
    "# if os.path.isdir(figSavePath) is False:\n",
    "#     os.mkdir(figSavePath)\n",
    "\n",
    "paramNames = opc.validParams\n",
    "specNames = opc.specNames\n",
    "paramDF = opc.parameter_df\n",
    "\n",
    "# run for one spectrum or run all in a for loop\n",
    "i = 10\n",
    "# for i in range(np.shape(paramDF)[1]):\n",
    "plt.figure(figsize=(6.5,4),dpi=300)\n",
    "plt.bar(np.linspace(1,len(paramNames),len(paramNames)),paramDF.iloc[:,i])\n",
    "plt.title(specNames[i]+' Parameter Values')\n",
    "plt.xticks(np.linspace(1,len(paramNames),len(paramNames)),labels=paramNames,rotation=90)\n",
    "plt.subplots_adjust(bottom=0.3)\n",
    "# sampleName = sampleName.replace(',','Bar')\n",
    "plt.show()\n",
    "# plt.savefig(figSavePath+sampleName+'.png', dpi=300)\n",
    "\n",
    "plt.figure(figsize=(6.5,4),dpi=300)\n",
    "plt.plot(opc.wvt,opc.spectra.iloc[:,i])\n",
    "plt.title('Spectrum '+specNames[i])\n",
    "plt.xlabel('Wavelength (nm)')\n",
    "# sampleName=sampleName.replace('Bar', 'Spectrum')\n",
    "\n",
    "# show or save the figure(s)\n",
    "plt.show()\n",
    "# plt.savefig(figSavePath+sampleName+'.png', dpi=300)"
   ]
  }
 ],
 "metadata": {
  "kernelspec": {
   "display_name": "hypyrameter",
   "language": "python",
   "name": "python3"
  },
  "language_info": {
   "codemirror_mode": {
    "name": "ipython",
    "version": 3
   },
   "file_extension": ".py",
   "mimetype": "text/x-python",
   "name": "python",
   "nbconvert_exporter": "python",
   "pygments_lexer": "ipython3",
   "version": "3.11.5"
  },
  "orig_nbformat": 4
 },
 "nbformat": 4,
 "nbformat_minor": 2
}
